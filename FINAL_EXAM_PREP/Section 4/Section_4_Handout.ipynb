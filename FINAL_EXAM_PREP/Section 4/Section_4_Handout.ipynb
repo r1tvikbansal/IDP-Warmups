{
 "cells": [
  {
   "cell_type": "markdown",
   "metadata": {},
   "source": [
    "# Setup\n",
    "\n",
    "Run the following code before working on any problem to import util functions used to test your code"
   ]
  },
  {
   "cell_type": "code",
   "execution_count": 1,
   "metadata": {},
   "outputs": [],
   "source": [
    "import pandas as pd\n",
    "import seaborn as sns\n",
    "import matplotlib.pyplot as plt\n",
    "\n",
    "from cse163_utils import assert_equals, check_approx_equals\n",
    "\n",
    "%matplotlib inline\n",
    "sns.set()"
   ]
  },
  {
   "cell_type": "markdown",
   "metadata": {},
   "source": [
    "# Problem 1: Pandas Continued"
   ]
  },
  {
   "cell_type": "markdown",
   "metadata": {},
   "source": [
    "Run the following code to import data about cancer rates into a pandas dataframe called df. Note the names of the columns, as these will be useful for the functions you'll be required to write"
   ]
  },
  {
   "cell_type": "code",
   "execution_count": 2,
   "metadata": {},
   "outputs": [
    {
     "data": {
      "text/html": [
       "<div>\n",
       "<style scoped>\n",
       "    .dataframe tbody tr th:only-of-type {\n",
       "        vertical-align: middle;\n",
       "    }\n",
       "\n",
       "    .dataframe tbody tr th {\n",
       "        vertical-align: top;\n",
       "    }\n",
       "\n",
       "    .dataframe thead th {\n",
       "        text-align: right;\n",
       "    }\n",
       "</style>\n",
       "<table border=\"1\" class=\"dataframe\">\n",
       "  <thead>\n",
       "    <tr style=\"text-align: right;\">\n",
       "      <th></th>\n",
       "      <th>Area</th>\n",
       "      <th>Count</th>\n",
       "      <th>Event Type</th>\n",
       "      <th>Population</th>\n",
       "      <th>Race</th>\n",
       "      <th>Sex</th>\n",
       "      <th>Year</th>\n",
       "    </tr>\n",
       "  </thead>\n",
       "  <tbody>\n",
       "    <tr>\n",
       "      <th>0</th>\n",
       "      <td>Alabama</td>\n",
       "      <td>4366</td>\n",
       "      <td>Mortality</td>\n",
       "      <td>2293259</td>\n",
       "      <td>All Races</td>\n",
       "      <td>Female</td>\n",
       "      <td>1999</td>\n",
       "    </tr>\n",
       "    <tr>\n",
       "      <th>1</th>\n",
       "      <td>Alabama</td>\n",
       "      <td>9452</td>\n",
       "      <td>Incidence</td>\n",
       "      <td>2302835</td>\n",
       "      <td>All Races</td>\n",
       "      <td>Female</td>\n",
       "      <td>2000</td>\n",
       "    </tr>\n",
       "    <tr>\n",
       "      <th>2</th>\n",
       "      <td>Alabama</td>\n",
       "      <td>4425</td>\n",
       "      <td>Mortality</td>\n",
       "      <td>2302835</td>\n",
       "      <td>All Races</td>\n",
       "      <td>Female</td>\n",
       "      <td>2000</td>\n",
       "    </tr>\n",
       "    <tr>\n",
       "      <th>3</th>\n",
       "      <td>Alabama</td>\n",
       "      <td>9938</td>\n",
       "      <td>Incidence</td>\n",
       "      <td>2309496</td>\n",
       "      <td>All Races</td>\n",
       "      <td>Female</td>\n",
       "      <td>2001</td>\n",
       "    </tr>\n",
       "    <tr>\n",
       "      <th>4</th>\n",
       "      <td>Alabama</td>\n",
       "      <td>4550</td>\n",
       "      <td>Mortality</td>\n",
       "      <td>2309496</td>\n",
       "      <td>All Races</td>\n",
       "      <td>Female</td>\n",
       "      <td>2001</td>\n",
       "    </tr>\n",
       "  </tbody>\n",
       "</table>\n",
       "</div>"
      ],
      "text/plain": [
       "      Area  Count Event Type  Population       Race     Sex  Year\n",
       "0  Alabama   4366  Mortality     2293259  All Races  Female  1999\n",
       "1  Alabama   9452  Incidence     2302835  All Races  Female  2000\n",
       "2  Alabama   4425  Mortality     2302835  All Races  Female  2000\n",
       "3  Alabama   9938  Incidence     2309496  All Races  Female  2001\n",
       "4  Alabama   4550  Mortality     2309496  All Races  Female  2001"
      ]
     },
     "execution_count": 2,
     "metadata": {},
     "output_type": "execute_result"
    }
   ],
   "source": [
    "df = pd.read_csv('cancer.csv')\n",
    "\n",
    "df.head()"
   ]
  },
  {
   "cell_type": "markdown",
   "metadata": {},
   "source": [
    "## Problem 1.1: `washington_rate`\n",
    "\n",
    "Write a function named `washington_rate` that accepts a Pandas dataframe and returns the complete row of data for all information about cancer deaths (Event Type = Mortality) that occurred in Washington (Area = Washington)"
   ]
  },
  {
   "cell_type": "code",
   "execution_count": 12,
   "metadata": {},
   "outputs": [],
   "source": [
    "# Type your solution here\n",
    "def washington_rate(df):\n",
    "    mask = (df['Event Type'] == 'Mortality') & (df['Area'] == 'Washington')\n",
    "    return df[mask]"
   ]
  },
  {
   "cell_type": "code",
   "execution_count": 13,
   "metadata": {},
   "outputs": [
    {
     "name": "stdout",
     "output_type": "stream",
     "text": [
      "             Area  Count Event Type  Population       Race     Sex  Year\n",
      "19825  Washington   5126  Mortality     2934901  All Races  Female  1999\n",
      "19827  Washington   5212  Mortality     2967734  All Races  Female  2000\n",
      "19829  Washington   5224  Mortality     3002080  All Races  Female  2001\n",
      "19831  Washington   5276  Mortality     3036742  All Races  Female  2002\n",
      "19833  Washington   5414  Mortality     3065739  All Races  Female  2003\n",
      "Success!\n"
     ]
    }
   ],
   "source": [
    "# Test\n",
    "wr = washington_rate(df)\n",
    "print(wr.head())\n",
    "\n",
    "assert_equals(168, len(wr))\n",
    "assert_equals(803464, wr['Count'].sum())\n",
    "\n",
    "print('Success!')"
   ]
  },
  {
   "cell_type": "markdown",
   "metadata": {},
   "source": [
    "## Problem 1.2: `either_area_rate`\n",
    "\n",
    "Write a function `either_area_rate` that that accepts a Pandas dataframe, an area a1, and an area a2 and returns the complete row of data for all information about cancer deaths (Event Type = Mortality) that occurred in an Area equal to a1 or a2.\n",
    "\n",
    "If a2 is not specified, it should default to Washington. So, the call to `either_area_rate(df, Nevada)` would return rows with an area of Washington or Nevada.\n",
    "Note that the function should still be able to take two parameters: `either_area_rate(df, Ohio, Michigan)` should return rows in Ohio or Michigan.\n",
    "\n",
    "Note: This function will be similar to 1.1!\n"
   ]
  },
  {
   "cell_type": "code",
   "execution_count": 18,
   "metadata": {},
   "outputs": [],
   "source": [
    "### edTest(test_either_area_rate_1) ###\n",
    "\n",
    "# Type your solution here\n",
    "def either_area_rate(df, a1, a2='Washington'):\n",
    "    mask = (df['Event Type'] == 'Mortality') & ((df['Area'] == a1) | (df['Area'] == a2))\n",
    "    return df[mask]"
   ]
  },
  {
   "cell_type": "code",
   "execution_count": 19,
   "metadata": {},
   "outputs": [
    {
     "name": "stdout",
     "output_type": "stream",
     "text": [
      "          Area  Count Event Type  Population       Race     Sex  Year\n",
      "1801  Colorado   2874  Mortality     2101358  All Races  Female  1999\n",
      "1803  Colorado   2902  Mortality     2147742  All Races  Female  2000\n",
      "1805  Colorado   3095  Mortality     2195705  All Races  Female  2001\n",
      "1807  Colorado   3109  Mortality     2228665  All Races  Female  2002\n",
      "1809  Colorado   3110  Mortality     2253214  All Races  Female  2003\n",
      "Success!\n"
     ]
    }
   ],
   "source": [
    "# Test 1\n",
    "nev_col = either_area_rate(df, 'Nevada', 'Colorado')\n",
    "print(nev_col.head())\n",
    "\n",
    "assert_equals(336, len(nev_col))\n",
    "assert_equals(794626, nev_col['Count'].sum())\n",
    "\n",
    "print('Success!')"
   ]
  },
  {
   "cell_type": "code",
   "execution_count": 20,
   "metadata": {},
   "outputs": [
    {
     "name": "stdout",
     "output_type": "stream",
     "text": [
      "       Area  Count Event Type  Population       Race     Sex  Year\n",
      "14353  Ohio  12305  Mortality     5835017  All Races  Female  1999\n",
      "14355  Ohio  12131  Mortality     5845425  All Races  Female  2000\n",
      "14357  Ohio  11996  Mortality     5853691  All Races  Female  2001\n",
      "14359  Ohio  12253  Mortality     5859385  All Races  Female  2002\n",
      "14361  Ohio  12250  Mortality     5868535  All Races  Female  2003\n",
      "Success!\n"
     ]
    }
   ],
   "source": [
    "# Test 2\n",
    "ohio_wash = either_area_rate(df, 'Ohio')\n",
    "print(ohio_wash.head())\n",
    "\n",
    "assert_equals(336, len(ohio_wash))\n",
    "assert_equals(2607690, ohio_wash['Count'].sum())\n",
    "\n",
    "print('Success!')"
   ]
  },
  {
   "cell_type": "markdown",
   "metadata": {},
   "source": [
    "## Problem 1.3: `occurrences_in_pop`\n",
    "\n",
    "Write a function named `occurrences_in_pop` that accepts a Pandas dataframe, an integer representing a population minimum `m`, and a given sex ('Male', 'Female', or 'Male and Female') and returns the complete row of data for all cancer incidence (Event Type = Incidence) of the given sex for all data points with population greater than or equal to `m`. Returns None if no records exist that satisfy the given conditions."
   ]
  },
  {
   "cell_type": "code",
   "execution_count": 25,
   "metadata": {},
   "outputs": [],
   "source": [
    "### edTest(test_occurrences_in_pop_1) ###\n",
    "\n",
    "# Type your solution here\n",
    "def occurrences_in_pop(df, m, sex):\n",
    "    mask = (df['Population'] > m) & (df['Sex'] == sex) & (df['Event Type'] == 'Incidence')\n",
    "    return df[mask]"
   ]
  },
  {
   "cell_type": "code",
   "execution_count": 26,
   "metadata": {},
   "outputs": [
    {
     "name": "stdout",
     "output_type": "stream",
     "text": [
      "            Area  Count Event Type  Population       Race   Sex  Year\n",
      "44       Alabama  67396  Incidence    11515137  All Races  Male  2009\n",
      "706      Arizona  68986  Incidence    15749010  All Races  Male  2009\n",
      "958      Arizona  63324  Incidence    13571975      White  Male  2009\n",
      "1492  California  69293  Incidence    16699043  All Races  Male  1999\n",
      "1494  California  69892  Incidence    16937562  All Races  Male  2000\n",
      "Success!\n"
     ]
    }
   ],
   "source": [
    "# Test 1\n",
    "male_10mil = occurrences_in_pop(df, 10000000, 'Male')\n",
    "print(male_10mil.head())\n",
    "\n",
    "assert_equals(425, len(male_10mil))\n",
    "assert_equals(76938250, male_10mil['Count'].sum())\n",
    "\n",
    "print('Success!')"
   ]
  },
  {
   "cell_type": "code",
   "execution_count": 27,
   "metadata": {},
   "outputs": [
    {
     "name": "stdout",
     "output_type": "stream",
     "text": [
      "2422 95317826\n",
      "      Area  Count Event Type  Population       Race     Sex  Year\n",
      "1  Alabama   9452  Incidence     2302835  All Races  Female  2000\n",
      "3  Alabama   9938  Incidence     2309496  All Races  Female  2001\n",
      "5  Alabama  10133  Incidence     2314370  All Races  Female  2002\n",
      "7  Alabama   9592  Incidence     2324069  All Races  Female  2003\n",
      "9  Alabama  10221  Incidence     2337857  All Races  Female  2004\n",
      "Success!\n"
     ]
    }
   ],
   "source": [
    "# Test 2\n",
    "female_500k = occurrences_in_pop(df, 500000, 'Female')\n",
    "print(len(female_500k), female_500k['Count'].sum())\n",
    "print(female_500k.head())\n",
    "\n",
    "assert_equals(2422, len(female_500k))\n",
    "assert_equals(95317826, female_500k['Count'].sum())\n",
    "\n",
    "print('Success!')"
   ]
  },
  {
   "cell_type": "markdown",
   "metadata": {},
   "source": [
    "## Problem 1.4: `deaths_per_year`\n",
    "\n",
    "This problem is going to be a little different then the other pandas problems we have been working with so far. While most times, you'll be writing your own pandas code for your homework, it's often a useful skill to learn how to debug and fix pandas error, especially since the error you get from the output isn't too useful. For this problem, the task is to fix the partially filled in function according to the spec defined below. Note that there may be more than one bug and could range between a pandas error to an algorithmic error!\n",
    "\n",
    "**Fix** a function named `deaths_per_year` that accepts a Pandas dataframe and returns a series with the number of cancer deaths (Event Type = Mortality) for each year between 2002 - 2008 (inclusive) for both sexes and all races.\n",
    "\n",
    "**Hint:** If you aren't getting the correct numbers, you might want to invesigate the dataset a little more closesly. Here's a block of code you can try printing out if you're stuck!\n",
    "\n",
    "```\n",
    "df.loc[[5, 32, 59]]\n",
    "```"
   ]
  },
  {
   "cell_type": "code",
   "execution_count": null,
   "metadata": {},
   "outputs": [
    {
     "name": "stdout",
     "output_type": "stream",
     "text": [
      "       Area  Count Event Type  Population       Race              Sex  Year\n",
      "5   Alabama  10133  Incidence     2314370  All Races           Female  2002\n",
      "32  Alabama  11250  Incidence     2165719  All Races             Male  2002\n",
      "59  Alabama  21383  Incidence     4480089  All Races  Male and Female  2002\n"
     ]
    }
   ],
   "source": [
    "### edTest(test_deaths_per_year) ###\n",
    "def deaths_per_year(df):\n",
    "        new = df.dropna()\n",
    "\n",
    "    mask = (df['Event Type'] == 'Mortality') & (df['Year'] >= 2002) & (df['Year'] <= 2008)\n",
    "    new = new[mask]\n",
    "    return new.groupby('Year')['Count'].sum()\n",
    "print(df.loc[[5, 32, 59]])"
   ]
  },
  {
   "cell_type": "code",
   "execution_count": 40,
   "metadata": {},
   "outputs": [
    {
     "name": "stdout",
     "output_type": "stream",
     "text": [
      "Year\n",
      "2002    6752608\n",
      "2003    6750617\n",
      "2004    6713782\n",
      "2005    6784154\n",
      "2006    6792608\n",
      "2007    6830699\n",
      "2008    6864484\n",
      "Name: Count, dtype: int64\n"
     ]
    },
    {
     "ename": "AssertionError",
     "evalue": "Failed: Expected 11746632, but received 47488952",
     "output_type": "error",
     "traceback": [
      "\u001b[0;31m---------------------------------------------------------------------------\u001b[0m",
      "\u001b[0;31mAssertionError\u001b[0m                            Traceback (most recent call last)",
      "Cell \u001b[0;32mIn[40], line 6\u001b[0m\n\u001b[1;32m      3\u001b[0m \u001b[38;5;28mprint\u001b[39m(dpy)\n\u001b[1;32m      5\u001b[0m assert_equals(\u001b[38;5;241m7\u001b[39m, \u001b[38;5;28mlen\u001b[39m(dpy))\n\u001b[0;32m----> 6\u001b[0m assert_equals(\u001b[38;5;241m11746632\u001b[39m, dpy\u001b[38;5;241m.\u001b[39msum())\n\u001b[1;32m      8\u001b[0m \u001b[38;5;28mprint\u001b[39m(\u001b[38;5;124m'\u001b[39m\u001b[38;5;124mSuccess!\u001b[39m\u001b[38;5;124m'\u001b[39m)\n",
      "File \u001b[0;32m~/Documents/GitHub/IDP-Warmups/FINAL_EXAM_PREP/Section 4/cse163_utils.py:57\u001b[0m, in \u001b[0;36massert_equals\u001b[0;34m(expected, received)\u001b[0m\n\u001b[1;32m     50\u001b[0m \u001b[38;5;28;01mdef\u001b[39;00m \u001b[38;5;21massert_equals\u001b[39m(expected, received):\n\u001b[1;32m     51\u001b[0m \u001b[38;5;250m    \u001b[39m\u001b[38;5;124;03m\"\"\"\u001b[39;00m\n\u001b[1;32m     52\u001b[0m \u001b[38;5;124;03m    Checks received against expected, throws an AssertionError\u001b[39;00m\n\u001b[1;32m     53\u001b[0m \u001b[38;5;124;03m    if they don't match. If the argument is a float, will do an approximate\u001b[39;00m\n\u001b[1;32m     54\u001b[0m \u001b[38;5;124;03m    check. If the arugment is a data structure will do an approximate check\u001b[39;00m\n\u001b[1;32m     55\u001b[0m \u001b[38;5;124;03m    on all of its contents.\u001b[39;00m\n\u001b[1;32m     56\u001b[0m \u001b[38;5;124;03m    \"\"\"\u001b[39;00m\n\u001b[0;32m---> 57\u001b[0m     \u001b[38;5;28;01massert\u001b[39;00m check_approx_equals(expected, received), \\\n\u001b[1;32m     58\u001b[0m         \u001b[38;5;124mf\u001b[39m\u001b[38;5;124m'\u001b[39m\u001b[38;5;124mFailed: Expected \u001b[39m\u001b[38;5;132;01m{\u001b[39;00mexpected\u001b[38;5;132;01m}\u001b[39;00m\u001b[38;5;124m, but received \u001b[39m\u001b[38;5;132;01m{\u001b[39;00mreceived\u001b[38;5;132;01m}\u001b[39;00m\u001b[38;5;124m'\u001b[39m\n",
      "\u001b[0;31mAssertionError\u001b[0m: Failed: Expected 11746632, but received 47488952"
     ]
    }
   ],
   "source": [
    "# Test\n",
    "dpy = deaths_per_year(df)\n",
    "print(dpy)\n",
    "\n",
    "assert_equals(7, len(dpy))\n",
    "assert_equals(11746632, dpy.sum())\n",
    "\n",
    "print('Success!')"
   ]
  },
  {
   "cell_type": "markdown",
   "metadata": {},
   "source": [
    "### Extra edTests\n",
    "You can safely ignore the following cells."
   ]
  },
  {
   "cell_type": "code",
   "execution_count": 0,
   "metadata": {},
   "outputs": [],
   "source": [
    "### edTest(test_either_area_rate_2) ###"
   ]
  },
  {
   "cell_type": "code",
   "execution_count": 0,
   "metadata": {},
   "outputs": [],
   "source": [
    "### edTest(test_occurrences_in_pop_2) ###"
   ]
  },
  {
   "cell_type": "markdown",
   "metadata": {},
   "source": [
    "# Problem 2: Plotting Code"
   ]
  },
  {
   "cell_type": "markdown",
   "metadata": {},
   "source": [
    "We will be using Seaborn in this section to make visualizations. As mentioned in lecture, Seaborn has great documentation, so you should take this time to read about some of the functions you might need in this class below. Feel free to look at some of the examples included in the links below to determine whether or not you might need to use the function.\n",
    "\n",
    "\n",
    "Here's some seaborn functions you might need for this section:\n",
    "\n",
    "* [Bar/Violin Plot](https://seaborn.pydata.org/generated/seaborn.catplot.html)\n",
    "* [Plot a Distribution](https://seaborn.pydata.org/generated/seaborn.kdeplot.html)\n",
    "* [Scatter/Line Plot](https://seaborn.pydata.org/generated/seaborn.relplot.html)\n",
    "* [Linear Regression Plot](https://seaborn.pydata.org/generated/seaborn.regplot.html)\n",
    "* [Compare Two Variables](https://seaborn.pydata.org/generated/seaborn.jointplot.html)\n",
    "* [Heatmap](https://seaborn.pydata.org/generated/seaborn.heatmap.html#seaborn.heatmap)\n",
    "\n",
    "\n",
    "Note: The Seaborn library has been included at the top and is in a variable named `sns`"
   ]
  },
  {
   "cell_type": "markdown",
   "metadata": {},
   "source": [
    "## Problem 2.1: Line Chart\n",
    "\n",
    "Create a function called `plot_line` that accepts a Pandas dataframe and creates and displays a line chart using Seaborn that plots similar information to what you generated in 1.4.  \n",
    "\n",
    "You should generate a line plot, where the years are on the x axis and the count is on the y axis, of the number of cancer deaths (Event Type = Mortality) for each year between 2002 - 2008 (inclusive) for both sexes and all races *in the state of Washington*.\n",
    "\n",
    "**Please provide a descriptive title and axis labels for your generated visualization.**\n",
    "\n",
    "**NOTE:** the information you're plotting in this problem is very similar to problem 1.4, except this time you are constrained to a single area (*only* Washington). This means that you should be able to look up the exact row that corresponds to mortality counts for all races and both sexes in the state of Washington directly **without needing a groupby** (there's nothing to aggregate in this case, since you can look it up directly in the dataframe). Most of the logic for filtering the correct data will be the same as in problem 1.4, so feel free to copy over relevant parts of your solution here."
   ]
  },
  {
   "cell_type": "code",
   "execution_count": 0,
   "metadata": {},
   "outputs": [],
   "source": [
    "# Type your solution here\n"
   ]
  },
  {
   "cell_type": "code",
   "execution_count": 0,
   "metadata": {},
   "outputs": [],
   "source": [
    "plot_line(df)"
   ]
  },
  {
   "cell_type": "markdown",
   "metadata": {},
   "source": [
    "## Problem 2.2: Regression Plot\n",
    "\n",
    "Create a function called `plot_regression` that accepts a Pandas dataframe and crates a linear regression plot between Population and Count for cancer incidence (Event Type = Incidence). Remember that we need to pass in 'Population' and 'Count' as X and Y to the `regplot` function!\n",
    "\n",
    "**Please provide a descriptive title and axis labels for your generated visualization.**"
   ]
  },
  {
   "cell_type": "code",
   "execution_count": 0,
   "metadata": {},
   "outputs": [],
   "source": [
    "# Type your solution here\n"
   ]
  },
  {
   "cell_type": "code",
   "execution_count": 0,
   "metadata": {},
   "outputs": [],
   "source": [
    "plot_regression(df)"
   ]
  },
  {
   "cell_type": "markdown",
   "metadata": {},
   "source": [
    "## Problem 2.3: Playing with Seaborn\n",
    "\n",
    "For this problem, we will be progressively be adding to a plot to explore some of the other arguments you can use with seaborn. We will be focusing on the `relplot` function from seaborn the the various arguments you can use with this function. Remember, for each visualization you create, make sure to provide a **descriptive title** and **axis labels** so that we can understand what you are visualizing.\n",
    "\n",
    "Every function in problem 2.3 will take in the cancer dataset as a dataframe and produce a seaborns plot.\n",
    "\n",
    "\n",
    "### Problem 2.3.a) A basic `relplot`\n",
    "Create a function called `plot_problem_23a` which plots the general count of cancer events over the years. Remember, that you will want to be using the `relplot` function."
   ]
  },
  {
   "cell_type": "code",
   "execution_count": 0,
   "metadata": {},
   "outputs": [],
   "source": [
    "# Type your solution here\n"
   ]
  },
  {
   "cell_type": "code",
   "execution_count": 0,
   "metadata": {},
   "outputs": [],
   "source": [
    "plot_problem_23a(df)"
   ]
  },
  {
   "cell_type": "markdown",
   "metadata": {},
   "source": [
    "#### Problem 2.3.b) Analyzing the `relplot`\n",
    "The graph that we just created in the previous problem showcased a peculiar spike at the year 2009. Since this is interesting, we should try to focus in on this year and try to visualize other aspects of the data.\n",
    "\n",
    "Create a function `plot_problem_23b` which plots the general count of cancer events over the population of the areas in the year 2009. "
   ]
  },
  {
   "cell_type": "code",
   "execution_count": 0,
   "metadata": {},
   "outputs": [],
   "source": [
    "# Type your solution here\n"
   ]
  },
  {
   "cell_type": "code",
   "execution_count": 0,
   "metadata": {},
   "outputs": [],
   "source": [
    "plot_problem_23b(df)"
   ]
  },
  {
   "cell_type": "markdown",
   "metadata": {},
   "source": [
    "### Problem 2.3.c) Adding in extra `seaborn` *flare*\n",
    "It looks like we can see a bit more detail of what is going on with our data in the year 2009, but we definitely are missing some details. We should see if we can encode more data within our visualizations.\n",
    "\n",
    "Create a function `plot_problem_23c` which plots the general count of cancer events over race. Each point should have the hue correlated with the type of cancer event (which is either 'Mortality' or 'Incidence') and the size correlated with the population."
   ]
  },
  {
   "cell_type": "code",
   "execution_count": 0,
   "metadata": {},
   "outputs": [],
   "source": [
    "# Type your solution here\n"
   ]
  },
  {
   "cell_type": "code",
   "execution_count": 0,
   "metadata": {},
   "outputs": [],
   "source": [
    "plot_problem_23c(df)"
   ]
  },
  {
   "cell_type": "markdown",
   "metadata": {},
   "source": [
    "### Problem 2.3.d) Thoughts and Bonus!\n",
    "This last plot is pretty different then the other plots that we have plotted mostly due to the extra information we have plotted. Recall the lecture we had on Monday, we discussed three types of data, Quantitative, Ordinal, and Nominal, and a hierachy of ways to encode that data. In this last plot, we can actually see the hierachy in play (try to look at each column and mark which type of data it is)!\n",
    "\n",
    "As a bonus, create a function `plot_problem_23d` that uses some of the seaborn features we haven't talked about yet. You should look through the seaborn documentation for the `relplot` function and see if there are any other arguments you could use to personalize your plot! There might be a cool way to *color* the points or perhaps a way to place plots side-by-side (the solution will showcase one such example). It may be helpful to look at the example plots in the documentation to see what seaborn showcases."
   ]
  },
  {
   "cell_type": "code",
   "execution_count": 0,
   "metadata": {},
   "outputs": [],
   "source": [
    "# Type your solution here\n"
   ]
  },
  {
   "cell_type": "code",
   "execution_count": 0,
   "metadata": {},
   "outputs": [],
   "source": [
    "plot_problem_23d(df)"
   ]
  },
  {
   "cell_type": "markdown",
   "metadata": {},
   "source": [
    "# Problem 3: Discussion\n",
    "\n"
   ]
  },
  {
   "cell_type": "markdown",
   "metadata": {},
   "source": [
    "## Problem 3.1\n",
    "Do you think a line chart is an effective visualization in problem 2.1? Explain in 1-2 sentences why or why not.\n",
    "\n",
    "\n",
    "\n",
    "\n"
   ]
  },
  {
   "cell_type": "markdown",
   "metadata": {},
   "source": [
    "Answer:"
   ]
  },
  {
   "cell_type": "markdown",
   "metadata": {},
   "source": [
    "## Problem 3.2\n",
    "What do you think are the limitations of this dataset?"
   ]
  },
  {
   "cell_type": "markdown",
   "metadata": {},
   "source": [
    "Answer:"
   ]
  }
 ],
 "metadata": {
  "kernelspec": {
   "display_name": "base",
   "language": "python",
   "name": "python3"
  },
  "language_info": {
   "codemirror_mode": {
    "name": "ipython",
    "version": 3
   },
   "file_extension": ".py",
   "mimetype": "text/x-python",
   "name": "python",
   "nbconvert_exporter": "python",
   "pygments_lexer": "ipython3",
   "version": "3.11.7"
  }
 },
 "nbformat": 4,
 "nbformat_minor": 1
}
