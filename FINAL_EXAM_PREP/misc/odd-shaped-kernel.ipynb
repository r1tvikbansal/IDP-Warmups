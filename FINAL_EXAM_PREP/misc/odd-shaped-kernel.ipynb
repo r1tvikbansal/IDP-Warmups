{
 "cells": [
  {
   "cell_type": "markdown",
   "id": "4404e286",
   "metadata": {},
   "source": [
    "# Odd-Shaped Kernel\n",
    "\n",
    "_An exercise for convolutions_\n",
    "\n",
    "## Objective:\n",
    "\n",
    "Manually perform a **2×3 convolution** on a **5×5 matrix** using an **odd-shaped kernel**. This exercise helps you understand how convolution works when the kernel isn’t square.\n",
    "\n",
    "---\n",
    "\n",
    "## Step 1: Source Matrix\n",
    "\n",
    "Use the following 5×5 matrix. All values are easy to calculate by hand (between 0 and 2):"
   ]
  },
  {
   "cell_type": "code",
   "execution_count": 4,
   "id": "ffa116ef",
   "metadata": {},
   "outputs": [],
   "source": [
    "src = [\n",
    "    [0, 1, 2, 1, 0],\n",
    "    [2, 1, 0, 1, 2],\n",
    "    [1, 2, 1, 0, 1],\n",
    "    [0, 1, 2, 1, 0],\n",
    "    [2, 0, 1, 2, 1]\n",
    "]"
   ]
  },
  {
   "cell_type": "markdown",
   "id": "8138cef7",
   "metadata": {},
   "source": [
    "## Step 2: Kernel (2×3)\n",
    "\n",
    "This is an **odd-shaped convolution kernel** using values -1, 0, and 1."
   ]
  },
  {
   "cell_type": "code",
   "execution_count": 14,
   "id": "5d3b3152",
   "metadata": {},
   "outputs": [],
   "source": [
    "kernel = [\n",
    "    [ 1, 0, -1],\n",
    "    [-1, 0, 1]\n",
    "]\n",
    "\n",
    "# This kernel emphasizes **edges or directional changes** in the input matrix."
   ]
  },
  {
   "cell_type": "code",
   "execution_count": 15,
   "id": "91c97af1",
   "metadata": {},
   "outputs": [
    {
     "data": {
      "text/plain": [
       "[[-4, 0, 4], [2, -2, -2], [2, 2, -2], [-3, 2, 2]]"
      ]
     },
     "execution_count": 15,
     "metadata": {},
     "output_type": "execute_result"
    }
   ],
   "source": [
    "result = []\n",
    "for i in range(4):\n",
    "    result.append([0]*3)\n",
    "    for j in range(3):\n",
    "        for k in range(2):\n",
    "            for l in range(3):\n",
    "                result[i][j] += src[i+k][j+l] * kernel[k][l]\n",
    "result"
   ]
  },
  {
   "cell_type": "markdown",
   "id": "52d48df3",
   "metadata": {},
   "source": [
    "## Step 3: Instructions\n",
    "\n",
    "1. Use **valid convolution** (no padding).\n",
    "   - Kernel starts at top-left of matrix and must fully fit within bounds.\n",
    "   - Output will be a **4×3 matrix**.\n",
    "2. For each position:\n",
    "   - Multiply corresponding values of the kernel and the overlapping matrix region.\n",
    "   - Add them up to get the convolution output at that spot.\n",
    "3. Fill in the output matrix below.\n",
    "4. **Circle the highest** value and **underline the lowest** value in your result.\n",
    "5. Reflect: What kind of features is this kernel detecting?\n",
    "\n",
    "---\n",
    "\n",
    "## Step 4: Output Matrix (Write your results here)\n",
    "\n",
    "|       | Col 0 | Col 1 | Col 2 |\n",
    "|-------|-------|--------|--------|\n",
    "| Row 0|   **-4**    |    0    |    **4**    |\n",
    "| Row 1|   2    |    -2    |    -2    |\n",
    "| Row 2|   2    |    2    |    -2    |\n",
    "| Row 3|    -3   |   2     |    2    |\n",
    "\n",
    "---\n",
    "\n",
    "## Discussion Prompts\n",
    "\n",
    "- What pattern(s) do you observe in the output?\n",
    "- Which areas had the highest values? What does that mean?\n",
    "- What happens if you flip the kernel (change 1 ↔ -1)?\n",
    "- How does using a 2×3 kernel differ from a 3×3 kernel?\n",
    "\n",
    "---\n",
    "\n",
    "## Bonus Challenge (Optional)\n",
    "\n",
    "Design your own **2×3 kernel** that averages or blurs pixel values instead of detecting edges. Try it out on the same matrix!\n",
    "\n",
    "Example starting point:\n",
    "\n",
    "[\n",
    "[1/6, 1/6, 1/6],\n",
    "[1/6, 1/6, 1/6]\n",
    "]\n",
    "\n",
    "---\n",
    "\n",
    "**Key Takeaway:**  \n",
    "Odd-shaped kernels still work! They just cover different patterns—and understanding them builds your deeper intuition for how convolutional filters \"see\" image regions.\n"
   ]
  }
 ],
 "metadata": {
  "kernelspec": {
   "display_name": "IDP3",
   "language": "python",
   "name": "python3"
  },
  "language_info": {
   "codemirror_mode": {
    "name": "ipython",
    "version": 3
   },
   "file_extension": ".py",
   "mimetype": "text/x-python",
   "name": "python",
   "nbconvert_exporter": "python",
   "pygments_lexer": "ipython3",
   "version": "3.8.19"
  }
 },
 "nbformat": 4,
 "nbformat_minor": 5
}
