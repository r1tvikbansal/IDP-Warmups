{
 "cells": [
  {
   "cell_type": "markdown",
   "id": "ab0fde9a",
   "metadata": {},
   "source": [
    "# Comprehension Practice"
   ]
  },
  {
   "cell_type": "code",
   "execution_count": 1,
   "id": "d1eedb83",
   "metadata": {},
   "outputs": [
    {
     "name": "stdout",
     "output_type": "stream",
     "text": [
      "[5, 7, 9, 11, 13, 15, 17, 19, 21, 23, 25, 27]\n"
     ]
    }
   ],
   "source": [
    "import pandas as pd\n",
    "import numpy as np\n",
    "import random\n",
    "\n",
    "# Create a list of odd numbers from 5 to 27 inclusive\n",
    "odd = [num for num in range(5, 28) if num % 2 == 1]\n",
    "print(odd)"
   ]
  },
  {
   "cell_type": "code",
   "execution_count": 41,
   "id": "e9eabb90",
   "metadata": {},
   "outputs": [
    {
     "name": "stdout",
     "output_type": "stream",
     "text": [
      "dict_items([('Person_0', (28, 'black')), ('Person_1', (56, 'white')), ('Person_2', (48, 'other')), ('Person_3', (90, 'other')), ('Person_4', (50, 'black')), ('Person_5', (23, 'asian')), ('Person_6', (4, 'asian')), ('Person_7', (20, 'white')), ('Person_8', (53, 'white')), ('Person_9', (77, 'asian')), ('Person_10', (62, 'black')), ('Person_11', (62, 'other')), ('Person_12', (15, 'other')), ('Person_13', (29, 'white')), ('Person_14', (9, 'hispanic')), ('Person_15', (42, 'other')), ('Person_16', (41, 'white')), ('Person_17', (23, 'hispanic')), ('Person_18', (55, 'hispanic')), ('Person_19', (39, 'black'))])\n",
      "{'Person_5': (23, 'asian'), 'Person_6': (4, 'asian'), 'Person_9': (77, 'asian'), 'Person_0': (28, 'black'), 'Person_4': (50, 'black'), 'Person_10': (62, 'black'), 'Person_19': (39, 'black'), 'Person_14': (9, 'hispanic'), 'Person_17': (23, 'hispanic'), 'Person_18': (55, 'hispanic'), 'Person_2': (48, 'other'), 'Person_3': (90, 'other'), 'Person_11': (62, 'other'), 'Person_12': (15, 'other'), 'Person_15': (42, 'other'), 'Person_1': (56, 'white'), 'Person_7': (20, 'white'), 'Person_8': (53, 'white'), 'Person_13': (29, 'white'), 'Person_16': (41, 'white')}\n",
      "{'Person_0': (28, 'black'), 'Person_1': (56, 'white'), 'Person_10': (62, 'black'), 'Person_11': (62, 'other'), 'Person_12': (15, 'other'), 'Person_13': (29, 'white'), 'Person_14': (9, 'hispanic'), 'Person_15': (42, 'other'), 'Person_16': (41, 'white'), 'Person_17': (23, 'hispanic'), 'Person_18': (55, 'hispanic'), 'Person_19': (39, 'black'), 'Person_2': (48, 'other'), 'Person_3': (90, 'other'), 'Person_4': (50, 'black'), 'Person_5': (23, 'asian'), 'Person_6': (4, 'asian'), 'Person_7': (20, 'white'), 'Person_8': (53, 'white'), 'Person_9': (77, 'asian')}\n"
     ]
    }
   ],
   "source": [
    "df = pd.DataFrame({\n",
    "    'name': [f'Person_{i}' for i in range(20)],\n",
    "    'age': np.random.randint(1, 91, 20),\n",
    "    'race': np.random.choice([\n",
    "        'white', 'hispanic', 'black', 'asian', 'other'\n",
    "    ], 20)\n",
    "})\n",
    "\n",
    "final = {n: (k, v) for n, k, v in zip(df['name'], df['age'], df['race'])}\n",
    "\n",
    "# zipped = list(zip(df['age'], df['race']))\n",
    "# final = {df['name'][i]:zipped[i] for i in range(20)}\n",
    "print(final.items())\n",
    "\n",
    "sortrace = dict(sorted(final.items(), key=lambda item: item[1][1]))\n",
    "print(sortrace)\n",
    "sortname = dict(sorted(final.items()))\n",
    "print(sortname)\n"
   ]
  },
  {
   "cell_type": "code",
   "execution_count": 3,
   "id": "343ff37d",
   "metadata": {},
   "outputs": [
    {
     "name": "stdout",
     "output_type": "stream",
     "text": [
      "[7, 11, 14, 21, 22, 28, 33, 35, 42, 44, 49, 55, 56, 63, 66, 70, 77, 84, 88, 91, 98, 99]\n"
     ]
    }
   ],
   "source": [
    "# create a list of numbers divisible by 7 or 11 that are between 1 and 100\n",
    "nums = [num for num in range(1, 100) if num % 7 == 0 or num % 11 == 0]\n",
    "print(nums)"
   ]
  },
  {
   "cell_type": "code",
   "execution_count": 4,
   "id": "1bd29db5",
   "metadata": {},
   "outputs": [
    {
     "name": "stdout",
     "output_type": "stream",
     "text": [
      "[1, 4, 9, 16, 25, 36, 49, 64, 81, 100]\n"
     ]
    }
   ],
   "source": [
    "# create a list of the squares from 1 to 100. [ 1, 4, 9, 16, 25, ... 100]\n",
    "squares = [num * num for num in range(1, 11)]\n",
    "print(squares)\n"
   ]
  },
  {
   "cell_type": "code",
   "execution_count": 5,
   "id": "c45b8539",
   "metadata": {},
   "outputs": [
    {
     "name": "stdout",
     "output_type": "stream",
     "text": [
      "[17, 13, 15, 30, 16, 14, 31, 14, 13, 17, 25, 20, 16, 28, 13, 15, 18, 20, 21, 29, 19, 33, 30, 24, 19, 14, 18, 33, 13, 22, 21, 16, 18, 17, 23, 27, 14, 18, 14, 15, 30, 14, 25, 32, 27, 25, 15, 26, 24, 18]\n",
      "[76, 82, 70, 93, 94, 74, 85, 82, 73, 90, 78, 70, 86, 94, 68, 100, 86, 65, 98, 66, 72, 88, 92, 79, 82, 74, 85, 87, 94, 90, 79, 94, 94, 65, 94, 71, 75, 90, 70, 100, 94, 66, 76, 82, 90, 76, 68, 75, 87, 90]\n",
      "['f', 'a', 'a', 'c', 'd', 'd', 'g', 'l', 'j', 'j', 'm', 'a', 'a', 'k', 'm', 'h', 'h', 'e', 'm', 'f', 'h', 'f', 'k', 'i', 'c', 'j', 'd', 'e', 'i', 'k', 'a', 'm', 'c', 'b', 'f', 'l', 'b', 'd', 'g', 'd', 'h', 'j', 'g', 'k', 'k', 'c', 'm', 'l', 'h', 'h']\n",
      "   letter  num  score\n",
      "0       f   17     76\n",
      "1       a   13     82\n",
      "2       a   15     70\n",
      "3       c   30     93\n",
      "4       d   16     94\n",
      "5       d   14     74\n",
      "6       g   31     85\n",
      "7       l   14     82\n",
      "8       j   13     73\n",
      "9       j   17     90\n",
      "10      m   25     78\n",
      "11      a   20     70\n",
      "12      a   16     86\n",
      "13      k   28     94\n",
      "14      m   13     68\n",
      "15      h   15    100\n",
      "16      h   18     86\n",
      "17      e   20     65\n",
      "18      m   21     98\n",
      "19      f   29     66\n",
      "20      h   19     72\n",
      "21      f   33     88\n",
      "22      k   30     92\n",
      "23      i   24     79\n",
      "24      c   19     82\n",
      "25      j   14     74\n",
      "26      d   18     85\n",
      "27      e   33     87\n",
      "28      i   13     94\n",
      "29      k   22     90\n",
      "30      a   21     79\n",
      "31      m   16     94\n",
      "32      c   18     94\n",
      "33      b   17     65\n",
      "34      f   23     94\n",
      "35      l   27     71\n",
      "36      b   14     75\n",
      "37      d   18     90\n",
      "38      g   14     70\n",
      "39      d   15    100\n",
      "40      h   30     94\n",
      "41      j   14     66\n",
      "42      g   25     76\n",
      "43      k   32     82\n",
      "44      k   27     90\n",
      "45      c   25     76\n",
      "46      m   15     68\n",
      "47      l   26     75\n",
      "48      h   24     87\n",
      "49      h   18     90\n"
     ]
    }
   ],
   "source": [
    "# use random.randint() to create a list of 50 random numbers from 13-33 inclusive\n",
    "nums = [random.randint(13, 33) for num in range(50)]\n",
    "print(nums)\n",
    "\n",
    "# create a list of 50 random numbers from 65-100 inclusive\n",
    "scores = [random.randint(65, 100) for num in range(50)]\n",
    "print(scores)\n",
    "\n",
    "# # create a list of 50 random letters from 'a' to 'm' inclusive\n",
    "letters = [random.choice('abcdefghijklm') for num in range(50)]\n",
    "print(letters)\n",
    "\n",
    "# create a dataframe with 3 columns and 50 rows\n",
    "# letter :  a random letter selected from 'a' to 'm'\n",
    "# num : a random number between 13 - 33 inclusive\n",
    "# score : a random number between 65 - 100 inclusive\n",
    "data = zip(letters, nums, scores)\n",
    "df = pd.DataFrame(data, columns=['letter', 'num', 'score'])\n",
    "print(df)"
   ]
  },
  {
   "cell_type": "code",
   "execution_count": 12,
   "id": "e6167e57",
   "metadata": {},
   "outputs": [
    {
     "name": "stdout",
     "output_type": "stream",
     "text": [
      "   letter  num  score\n",
      "3       c   30     93\n",
      "4       d   16     94\n",
      "13      k   28     94\n",
      "15      h   15    100\n",
      "18      m   21     98\n",
      "22      k   30     92\n",
      "28      i   13     94\n",
      "31      m   16     94\n",
      "32      c   18     94\n",
      "34      f   23     94\n",
      "39      d   15    100\n",
      "40      h   30     94\n",
      "   letter  num  score\n",
      "3       c   30     93\n",
      "4       d   16     94\n",
      "13      k   28     94\n",
      "15      h   15    100\n",
      "18      m   21     98\n",
      "22      k   30     92\n",
      "28      i   13     94\n",
      "31      m   16     94\n",
      "32      c   18     94\n",
      "34      f   23     94\n",
      "39      d   15    100\n",
      "40      h   30     94\n",
      "['c', 'd', 'f', 'h', 'i', 'k', 'm']\n"
     ]
    }
   ],
   "source": [
    "# create a list of letters in the generate dataframe that have a score > 90\n",
    "# use df.loc and range()\n",
    "gt90 = df.loc[[index for index in range(50) if df.loc[index]['score'] > 90]]\n",
    "print(gt90)\n",
    "\n",
    "# # same thing, but use filters\n",
    "condition = df['score'] > 90\n",
    "gt90 = df[condition]\n",
    "print(gt90)\n",
    "\n",
    "# print out a sorted list of unique letters in df that have a score > 90.\n",
    "# Hint: use gt90 and sets\n",
    "un_gt90 = sorted(set(gt90['letter']))\n",
    "print(un_gt90)\n"
   ]
  },
  {
   "cell_type": "code",
   "execution_count": 19,
   "id": "ac9eb145",
   "metadata": {},
   "outputs": [
    {
     "name": "stdout",
     "output_type": "stream",
     "text": [
      "letter\n",
      "h    6\n",
      "a    5\n",
      "d    5\n",
      "m    5\n",
      "k    5\n",
      "f    4\n",
      "c    4\n",
      "j    4\n",
      "g    3\n",
      "l    3\n",
      "e    2\n",
      "i    2\n",
      "b    2\n",
      "Name: count, dtype: int64\n",
      "letter\n",
      "c    2\n",
      "d    2\n",
      "k    2\n",
      "h    2\n",
      "m    2\n",
      "i    1\n",
      "f    1\n",
      "Name: count, dtype: int64\n",
      "most above 90: c\n"
     ]
    }
   ],
   "source": [
    "# find the count of times each letter appears in the df\n",
    "counts = df['letter'].value_counts()\n",
    "print(counts)\n",
    "\n",
    "# find the count of times each letter has a score above 90\n",
    "counts = gt90['letter'].value_counts()\n",
    "print(counts)\n",
    "\n",
    "# print the letter that has a score above 90 the most number of times\n",
    "print('most above 90:', counts.idxmax())"
   ]
  },
  {
   "cell_type": "code",
   "execution_count": 65,
   "id": "6c9c8c49",
   "metadata": {},
   "outputs": [
    {
     "data": {
      "text/html": [
       "<div>\n",
       "<style scoped>\n",
       "    .dataframe tbody tr th:only-of-type {\n",
       "        vertical-align: middle;\n",
       "    }\n",
       "\n",
       "    .dataframe tbody tr th {\n",
       "        vertical-align: top;\n",
       "    }\n",
       "\n",
       "    .dataframe thead th {\n",
       "        text-align: right;\n",
       "    }\n",
       "</style>\n",
       "<table border=\"1\" class=\"dataframe\">\n",
       "  <thead>\n",
       "    <tr style=\"text-align: right;\">\n",
       "      <th></th>\n",
       "      <th>letter</th>\n",
       "      <th>state</th>\n",
       "    </tr>\n",
       "  </thead>\n",
       "  <tbody>\n",
       "    <tr>\n",
       "      <th>0</th>\n",
       "      <td>a</td>\n",
       "      <td>WA</td>\n",
       "    </tr>\n",
       "    <tr>\n",
       "      <th>1</th>\n",
       "      <td>b</td>\n",
       "      <td>NV</td>\n",
       "    </tr>\n",
       "    <tr>\n",
       "      <th>2</th>\n",
       "      <td>c</td>\n",
       "      <td>WA</td>\n",
       "    </tr>\n",
       "    <tr>\n",
       "      <th>3</th>\n",
       "      <td>d</td>\n",
       "      <td>OR</td>\n",
       "    </tr>\n",
       "    <tr>\n",
       "      <th>4</th>\n",
       "      <td>e</td>\n",
       "      <td>OR</td>\n",
       "    </tr>\n",
       "    <tr>\n",
       "      <th>5</th>\n",
       "      <td>f</td>\n",
       "      <td>WA</td>\n",
       "    </tr>\n",
       "    <tr>\n",
       "      <th>6</th>\n",
       "      <td>g</td>\n",
       "      <td>NV</td>\n",
       "    </tr>\n",
       "    <tr>\n",
       "      <th>7</th>\n",
       "      <td>h</td>\n",
       "      <td>CA</td>\n",
       "    </tr>\n",
       "    <tr>\n",
       "      <th>8</th>\n",
       "      <td>i</td>\n",
       "      <td>CA</td>\n",
       "    </tr>\n",
       "    <tr>\n",
       "      <th>9</th>\n",
       "      <td>j</td>\n",
       "      <td>NV</td>\n",
       "    </tr>\n",
       "    <tr>\n",
       "      <th>10</th>\n",
       "      <td>k</td>\n",
       "      <td>CA</td>\n",
       "    </tr>\n",
       "    <tr>\n",
       "      <th>11</th>\n",
       "      <td>l</td>\n",
       "      <td>OR</td>\n",
       "    </tr>\n",
       "    <tr>\n",
       "      <th>12</th>\n",
       "      <td>m</td>\n",
       "      <td>OR</td>\n",
       "    </tr>\n",
       "  </tbody>\n",
       "</table>\n",
       "</div>"
      ],
      "text/plain": [
       "   letter state\n",
       "0       a    WA\n",
       "1       b    NV\n",
       "2       c    WA\n",
       "3       d    OR\n",
       "4       e    OR\n",
       "5       f    WA\n",
       "6       g    NV\n",
       "7       h    CA\n",
       "8       i    CA\n",
       "9       j    NV\n",
       "10      k    CA\n",
       "11      l    OR\n",
       "12      m    OR"
      ]
     },
     "execution_count": 65,
     "metadata": {},
     "output_type": "execute_result"
    }
   ],
   "source": [
    "# create a dataframe with two columns:\n",
    "# letter 'a' - 'm'\n",
    "# state: random from ['WA', 'CA', 'OR', 'NV' ]\n",
    "# using a comprehension, create a list of letters a-m, inclusive\n",
    "letters = [letter for letter in 'abcdefghijklm']\n",
    "# using random.choice, create a list of length 13 that is a random\n",
    "# selection of states in ['WA', 'CA', 'OR', 'NV' ]\n",
    "states = [random.choice(['WA', 'CA', 'OR', 'NV']) for i in range(13)]\n",
    "# create a dataframe that has two columns, 'letter' and 'state' using\n",
    "# the two lists created above\n",
    "df2 = pd.DataFrame(zip(letters, states), columns=['letter', 'state'])\n",
    "df2\n",
    "\n",
    "\n"
   ]
  },
  {
   "cell_type": "code",
   "execution_count": 88,
   "id": "6cd347ce",
   "metadata": {},
   "outputs": [
    {
     "data": {
      "text/html": [
       "<div>\n",
       "<style scoped>\n",
       "    .dataframe tbody tr th:only-of-type {\n",
       "        vertical-align: middle;\n",
       "    }\n",
       "\n",
       "    .dataframe tbody tr th {\n",
       "        vertical-align: top;\n",
       "    }\n",
       "\n",
       "    .dataframe thead th {\n",
       "        text-align: right;\n",
       "    }\n",
       "</style>\n",
       "<table border=\"1\" class=\"dataframe\">\n",
       "  <thead>\n",
       "    <tr style=\"text-align: right;\">\n",
       "      <th></th>\n",
       "      <th>letter</th>\n",
       "      <th>num</th>\n",
       "      <th>score</th>\n",
       "      <th>state</th>\n",
       "    </tr>\n",
       "  </thead>\n",
       "  <tbody>\n",
       "    <tr>\n",
       "      <th>0</th>\n",
       "      <td>f</td>\n",
       "      <td>17</td>\n",
       "      <td>76</td>\n",
       "      <td>WA</td>\n",
       "    </tr>\n",
       "    <tr>\n",
       "      <th>1</th>\n",
       "      <td>a</td>\n",
       "      <td>13</td>\n",
       "      <td>82</td>\n",
       "      <td>WA</td>\n",
       "    </tr>\n",
       "    <tr>\n",
       "      <th>2</th>\n",
       "      <td>a</td>\n",
       "      <td>15</td>\n",
       "      <td>70</td>\n",
       "      <td>WA</td>\n",
       "    </tr>\n",
       "    <tr>\n",
       "      <th>3</th>\n",
       "      <td>c</td>\n",
       "      <td>30</td>\n",
       "      <td>93</td>\n",
       "      <td>WA</td>\n",
       "    </tr>\n",
       "    <tr>\n",
       "      <th>4</th>\n",
       "      <td>d</td>\n",
       "      <td>16</td>\n",
       "      <td>94</td>\n",
       "      <td>OR</td>\n",
       "    </tr>\n",
       "    <tr>\n",
       "      <th>5</th>\n",
       "      <td>d</td>\n",
       "      <td>14</td>\n",
       "      <td>74</td>\n",
       "      <td>OR</td>\n",
       "    </tr>\n",
       "    <tr>\n",
       "      <th>6</th>\n",
       "      <td>g</td>\n",
       "      <td>31</td>\n",
       "      <td>85</td>\n",
       "      <td>NV</td>\n",
       "    </tr>\n",
       "    <tr>\n",
       "      <th>7</th>\n",
       "      <td>l</td>\n",
       "      <td>14</td>\n",
       "      <td>82</td>\n",
       "      <td>OR</td>\n",
       "    </tr>\n",
       "    <tr>\n",
       "      <th>8</th>\n",
       "      <td>j</td>\n",
       "      <td>13</td>\n",
       "      <td>73</td>\n",
       "      <td>NV</td>\n",
       "    </tr>\n",
       "    <tr>\n",
       "      <th>9</th>\n",
       "      <td>j</td>\n",
       "      <td>17</td>\n",
       "      <td>90</td>\n",
       "      <td>NV</td>\n",
       "    </tr>\n",
       "  </tbody>\n",
       "</table>\n",
       "</div>"
      ],
      "text/plain": [
       "  letter  num  score state\n",
       "0      f   17     76    WA\n",
       "1      a   13     82    WA\n",
       "2      a   15     70    WA\n",
       "3      c   30     93    WA\n",
       "4      d   16     94    OR\n",
       "5      d   14     74    OR\n",
       "6      g   31     85    NV\n",
       "7      l   14     82    OR\n",
       "8      j   13     73    NV\n",
       "9      j   17     90    NV"
      ]
     },
     "execution_count": 88,
     "metadata": {},
     "output_type": "execute_result"
    }
   ],
   "source": [
    "\n",
    "# join the above DataFrame with this latest dataframe, df2, that has states.\n",
    "# The joined dataframe should have all 50 rows from df.\n",
    "df3 = df.merge(df2, on='letter', how='left')\n",
    "df3.head(10)\n",
    "# display the first 10 rows of the resulting join."
   ]
  },
  {
   "cell_type": "code",
   "execution_count": 87,
   "id": "27dd8e30",
   "metadata": {},
   "outputs": [
    {
     "name": "stdout",
     "output_type": "stream",
     "text": [
      "OR\n",
      "{'m', 'd', 'e', 'l'}\n"
     ]
    }
   ],
   "source": [
    "# display the state that has the greatest number of unique letters.\n",
    "most_unique = df3.groupby('state')['letter'].nunique().idxmax()\n",
    "print(most_unique)\n",
    "\n",
    "# display all those unique letters in that state (any order)\n",
    "most_unique_letters = set(df3[df3['state'] == most_unique]['letter'])\n",
    "print(most_unique_letters)\n"
   ]
  },
  {
   "cell_type": "code",
   "execution_count": 97,
   "id": "22a7ef27",
   "metadata": {},
   "outputs": [
    {
     "data": {
      "text/plain": [
       "d    100\n",
       "m     98\n",
       "e     87\n",
       "l     82\n",
       "dtype: int64"
      ]
     },
     "execution_count": 97,
     "metadata": {},
     "output_type": "execute_result"
    }
   ],
   "source": [
    "# for each of these letters, get the highest score they have\n",
    "# then, display the letters in order from highest to lowest.\n",
    "# display this as a Series where the index is the letter, and the score is the value.\n",
    "scores = df3.groupby('letter')['score'].max()\n",
    "subset = dict()\n",
    "for letter in most_unique_letters:\n",
    "    subset[letter] = scores[letter]\n",
    "sort = {k: v for k, v in sorted(subset.items(), key=lambda item: item[1], reverse=True)}\n",
    "pd.Series(sort)\n",
    "    "
   ]
  },
  {
   "cell_type": "code",
   "execution_count": null,
   "id": "bd569f0d",
   "metadata": {},
   "outputs": [],
   "source": []
  }
 ],
 "metadata": {
  "kernelspec": {
   "display_name": "Python 3 (ipykernel)",
   "language": "python",
   "name": "python3"
  },
  "language_info": {
   "codemirror_mode": {
    "name": "ipython",
    "version": 3
   },
   "file_extension": ".py",
   "mimetype": "text/x-python",
   "name": "python",
   "nbconvert_exporter": "python",
   "pygments_lexer": "ipython3",
   "version": "3.8.19"
  }
 },
 "nbformat": 4,
 "nbformat_minor": 5
}
