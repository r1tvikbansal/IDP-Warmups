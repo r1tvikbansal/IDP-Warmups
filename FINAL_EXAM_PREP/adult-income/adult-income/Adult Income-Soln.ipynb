{
 "cells": [
  {
   "cell_type": "markdown",
   "id": "fd73da46",
   "metadata": {},
   "source": [
    "# STOP: Do the work in Adult Income first!\n",
    "\n",
    "Then come back here and check your work."
   ]
  },
  {
   "cell_type": "code",
   "execution_count": null,
   "id": "91f78984",
   "metadata": {},
   "outputs": [],
   "source": [
    "import pandas as pd\n",
    "\n",
    "# Define the column names as per UCI documentation\n",
    "column_names = [\n",
    "    \"age\", \"workclass\", \"fnlwgt\", \"education\", \"education_num\", \n",
    "    \"marital_status\", \"occupation\", \"relationship\", \"race\", \n",
    "    \"sex\", \"capital_gain\", \"capital_loss\", \"hours_per_week\", \n",
    "    \"native_country\", \"income\"\n",
    "]\n",
    "\n",
    "# Load the dataset from UCI repository\n",
    "url = \"https://archive.ics.uci.edu/ml/machine-learning-databases/adult/adult.data\"\n",
    "\n",
    "# Read into a DataFrame\n",
    "df = pd.read_csv(url, header=None, names=column_names, na_values=\" ?\", skipinitialspace=True)\n",
    "\n",
    "# Preview the DataFrame\n",
    "print(df.head())"
   ]
  },
  {
   "cell_type": "markdown",
   "id": "da4ba7a6",
   "metadata": {},
   "source": [
    "# Problem 1: Encode Income Category\n",
    "Objective: Convert the income category into a binary numerical format."
   ]
  },
  {
   "cell_type": "code",
   "execution_count": null,
   "id": "1f6207a4",
   "metadata": {},
   "outputs": [],
   "source": [
    "def encode_income(df):\n",
    "    '''\n",
    "    Add a column named 'income_binary' to the DataFrame, df.\n",
    "    Map the 'income' column as follows:\n",
    "        - '<=50K' -> 0\n",
    "        - '>50K'  -> 1\n",
    "    Use a dictionary mapping or apply function for the transformation.\n",
    "\n",
    "    Return the updated DataFrame.\n",
    "    '''\n",
    "\n",
    "    df[\"income_binary\"] = df[\"income\"].map({\"<=50K\": 0, \">50K\": 1})\n",
    "    return df\n",
    "\n",
    "encode_income(df)"
   ]
  },
  {
   "cell_type": "markdown",
   "id": "238ab34e",
   "metadata": {},
   "source": [
    "# Problem 2: Handle Missing Workclass Entries\n",
    "Objective: Address missing values in the 'workclass' column."
   ]
  },
  {
   "cell_type": "code",
   "execution_count": null,
   "id": "ab9ca1b6",
   "metadata": {},
   "outputs": [],
   "source": [
    "def handle_missing_workclass(df):\n",
    "    '''\n",
    "    Replace missing values in the 'workclass' column with the mode (most frequent value).\n",
    "    Use appropriate pandas functions to identify and fill missing entries.\n",
    "\n",
    "    Return the updated DataFrame.\n",
    "    '''\n",
    "\n",
    "    mode_workclass = df[\"workclass\"].mode()[0]\n",
    "    df[\"workclass\"].fillna(mode_workclass, inplace=True)\n",
    "\n",
    "handle_missing_workclass(df)\n",
    "df"
   ]
  },
  {
   "cell_type": "markdown",
   "id": "65b79eb2",
   "metadata": {},
   "source": [
    "# Problem 3: Calculate Age Group\n",
    "Objective: Categorize individuals into age groups."
   ]
  },
  {
   "cell_type": "code",
   "execution_count": null,
   "id": "fb2bebcd",
   "metadata": {},
   "outputs": [],
   "source": [
    "def categorize_age(df):\n",
    "    '''\n",
    "    Add a column named 'age_group' to the DataFrame, df.\n",
    "    The 'age_group' column should categorize individuals as follows:\n",
    "        - 'Young' if age < 30\n",
    "        - 'Middle-aged' if 30 <= age < 60\n",
    "        - 'Senior' if age >= 60\n",
    "    Use apply or a lambda function for the transformation.\n",
    "\n",
    "    Return the updated DataFrame.\n",
    "    '''\n",
    "\n",
    "def age_group(age):\n",
    "    if age < 30:\n",
    "        return \"Young\"\n",
    "    elif age < 60:\n",
    "        return \"Middle-aged\"\n",
    "    else:\n",
    "        return \"Senior\"\n",
    "\n",
    "df[\"age_group\"] = df[\"age\"].apply(age_group)\n",
    "df"
   ]
  }
 ],
 "metadata": {
  "kernelspec": {
   "display_name": "idp",
   "language": "python",
   "name": "python3"
  },
  "language_info": {
   "codemirror_mode": {
    "name": "ipython",
    "version": 3
   },
   "file_extension": ".py",
   "mimetype": "text/x-python",
   "name": "python",
   "nbconvert_exporter": "python",
   "pygments_lexer": "ipython3",
   "version": "3.8.19"
  }
 },
 "nbformat": 4,
 "nbformat_minor": 5
}
