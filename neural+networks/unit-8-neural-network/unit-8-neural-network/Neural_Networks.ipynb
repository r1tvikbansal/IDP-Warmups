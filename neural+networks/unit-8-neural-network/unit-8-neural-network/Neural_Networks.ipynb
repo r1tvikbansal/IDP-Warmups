{
 "cells": [
  {
   "cell_type": "markdown",
   "metadata": {
    "id": "BimALP1lebCx"
   },
   "source": [
    "# Neural Networks Code: Digit Recognition\n",
    "\n",
    "In this notebook, we will show how to train a model to classify handwritten digits (0-9).\n",
    "\n",
    "First we start by importing some libraries.\n",
    "\n",
    "This page is highly related to our [Online Book](https://cse163.github.io/book/module-8-images/lesson-24-reading-machine-learning-and-images/neural-networks-code/Neural_Networks.html)."
   ]
  },
  {
   "cell_type": "code",
   "execution_count": 30,
   "metadata": {
    "id": "MhqvKP8tdJ3Y"
   },
   "outputs": [],
   "source": [
    "import math\n",
    "\n",
    "import imageio.v2 as imageio\n",
    "import matplotlib.pyplot as plt\n",
    "import numpy as np\n",
    "\n",
    "from sklearn.datasets import fetch_openml\n",
    "from sklearn.model_selection import train_test_split\n",
    "\n",
    "%matplotlib inline"
   ]
  },
  {
   "cell_type": "markdown",
   "metadata": {
    "id": "yhIIHlMn96Az"
   },
   "source": [
    "We need to load in the MNIST dataset of hand-written digits with their labels. Each example is a 28x28 grayscale image and its label is a number from 0 to 9. As we mentioned, it's common to \"unroll\" images for machine learning, so the return value for the training set will be a `numpy.array` with shape `(n, 784)` where `n` is the number of examples in the dataset. \n",
    "\n",
    "Many machine learning algorithms require the inputs be scaled to appropriate values, so we first change the range of the pixel values to be between 0 and 1. \n",
    "\n",
    "In Mathematics, it is a common convention to use a capital letter to represent a matrix. While this is not necessarily a convention in Python, you'll find that this mathematic's convention bleeds over into code from time to time."
   ]
  },
  {
   "cell_type": "code",
   "execution_count": 8,
   "metadata": {
    "id": "2el6fDfotikN"
   },
   "outputs": [
    {
     "data": {
      "text/plain": [
       "0        5\n",
       "1        0\n",
       "2        4\n",
       "3        1\n",
       "4        9\n",
       "        ..\n",
       "69995    2\n",
       "69996    3\n",
       "69997    4\n",
       "69998    5\n",
       "69999    6\n",
       "Name: class, Length: 70000, dtype: category\n",
       "Categories (10, object): ['0', '1', '2', '3', ..., '6', '7', '8', '9']"
      ]
     },
     "execution_count": 8,
     "metadata": {},
     "output_type": "execute_result"
    }
   ],
   "source": [
    "# Downloading the data takes a few seconds\n",
    "\n",
    "X, y = fetch_openml('mnist_784', version=1, parser='auto', return_X_y=True)\n",
    "X = X / 255.\n",
    "y"
   ]
  },
  {
   "cell_type": "markdown",
   "metadata": {},
   "source": [
    "* __Q1: What is fetch_openml? What is in X and y? What are their shapes?__\n",
    "> A1: It is a function that can fetch datasets by openml. X (shape: (70000, 784)) and y (shape: (70000,)) are tables. X has each image as an index with each pixel as a column and y has each image with its expected number shown in the image.\n",
    "\n",
    "* __Q2: What does the code do `X = X / 255`?__\n",
    "> A2: Machine Learning algorithms perfer input to be in the range of 0 and 1, so assigning by dividing by 255 we are essentially assigning a brightness value to each pixel rather than it's pixel value.\n"
   ]
  },
  {
   "cell_type": "markdown",
   "metadata": {
    "id": "-cz00ct5-ISj"
   },
   "source": [
    "Then, instead of using `train_test_split` like we would do in most situations, we separate the train data as the first 60,000 rows and the test as the remaining rows. This is generally not a good idea in practice, but this dataset is provided by the author with those rows specifically to be used as the test set."
   ]
  },
  {
   "cell_type": "code",
   "execution_count": 15,
   "metadata": {
    "colab": {
     "base_uri": "https://localhost:8080/"
    },
    "id": "7xeZsEwztlL3",
    "outputId": "4fd68b66-597b-45bb-b99d-9e89242d8b19"
   },
   "outputs": [
    {
     "name": "stdout",
     "output_type": "stream",
     "text": [
      "(60000, 784)\n"
     ]
    }
   ],
   "source": [
    "X_train, X_test = X[:60000], X[60000:]\n",
    "y_train, y_test = y[:60000], y[60000:]\n",
    "print(X_train.shape)\n",
    "img2 = np.array(X.loc[2])"
   ]
  },
  {
   "cell_type": "markdown",
   "metadata": {
    "id": "zgY9206V-WTZ"
   },
   "source": [
    "This code cell above confirms the shape of the array we described earlier. We can use `reshape` to plot what the image looks like! The X is a DataFrame. We grab the 2nd element and convert to a Numpy array so that we can reshape and plot it."
   ]
  },
  {
   "cell_type": "code",
   "execution_count": 16,
   "metadata": {
    "colab": {
     "base_uri": "https://localhost:8080/",
     "height": 282
    },
    "id": "OC5XAZrxtvkX",
    "outputId": "b8b577b0-6fc6-4bd1-8cf6-cfd5382ca78d"
   },
   "outputs": [
    {
     "data": {
      "text/plain": [
       "(784,)"
      ]
     },
     "execution_count": 16,
     "metadata": {},
     "output_type": "execute_result"
    },
    {
     "data": {
      "image/png": "[encoded data removed]",
      "text/plain": [
       "<Figure size 640x480 with 1 Axes>"
      ]
     },
     "metadata": {},
     "output_type": "display_data"
    }
   ],
   "source": [
    "plt.imshow(img2.reshape((28, 28)), cmap=plt.cm.gray)\n",
    "img2.shape"
   ]
  },
  {
   "cell_type": "markdown",
   "metadata": {
    "id": "lIlSiDvD_Nkh"
   },
   "source": [
    "We then go ahead to import and create a neural network using `sklearn`. Another name for a neural network is a \"multi-layer perceptron\", which explains the abbreviation `MLP`.\n",
    "\n",
    "The most important parameter to this function is the `hidden_layer_sizes` which specifies the number of hidden layers and the number of nodes that appear at each layer respectively. The remaining parameters are not as important and are there to keep the details of the output manageable. Confusingly in this paragraph, we refer to these as `parameters` since they are Python values you are passing. In reality they are technically the `hyperparameters` of the model since we are using them to specify what type of model we want! We provide `hyperparameter` values before the model learns. These `hyperparameters` define the model and how it will learn.\n",
    "\n",
    "By passing in `hidden_layer_sizes=(50,)` we are creating a neural network with one hidden layer, and that hidden layer has 50 nodes. The number of input and output neurons is determined by `sklearn` using the data you provide. So in this context, the network will have 784 input neurons, one layer of 50 neurons, and 10 output neurons (one for each digit).\n"
   ]
  },
  {
   "cell_type": "code",
   "execution_count": 19,
   "metadata": {
    "colab": {
     "base_uri": "https://localhost:8080/"
    },
    "id": "5g_Ln6PK2ztE",
    "outputId": "556e4d0c-d268-4012-b69a-87938ed4afeb"
   },
   "outputs": [
    {
     "data": {
      "text/html": [
       "<style>#sk-container-id-2 {color: black;}#sk-container-id-2 pre{padding: 0;}#sk-container-id-2 div.sk-toggleable {background-color: white;}#sk-container-id-2 label.sk-toggleable__label {cursor: pointer;display: block;width: 100%;margin-bottom: 0;padding: 0.3em;box-sizing: border-box;text-align: center;}#sk-container-id-2 label.sk-toggleable__label-arrow:before {content: \"▸\";float: left;margin-right: 0.25em;color: #696969;}#sk-container-id-2 label.sk-toggleable__label-arrow:hover:before {color: black;}#sk-container-id-2 div.sk-estimator:hover label.sk-toggleable__label-arrow:before {color: black;}#sk-container-id-2 div.sk-toggleable__content {max-height: 0;max-width: 0;overflow: hidden;text-align: left;background-color: #f0f8ff;}#sk-container-id-2 div.sk-toggleable__content pre {margin: 0.2em;color: black;border-radius: 0.25em;background-color: #f0f8ff;}#sk-container-id-2 input.sk-toggleable__control:checked~div.sk-toggleable__content {max-height: 200px;max-width: 100%;overflow: auto;}#sk-container-id-2 input.sk-toggleable__control:checked~label.sk-toggleable__label-arrow:before {content: \"▾\";}#sk-container-id-2 div.sk-estimator input.sk-toggleable__control:checked~label.sk-toggleable__label {background-color: #d4ebff;}#sk-container-id-2 div.sk-label input.sk-toggleable__control:checked~label.sk-toggleable__label {background-color: #d4ebff;}#sk-container-id-2 input.sk-hidden--visually {border: 0;clip: rect(1px 1px 1px 1px);clip: rect(1px, 1px, 1px, 1px);height: 1px;margin: -1px;overflow: hidden;padding: 0;position: absolute;width: 1px;}#sk-container-id-2 div.sk-estimator {font-family: monospace;background-color: #f0f8ff;border: 1px dotted black;border-radius: 0.25em;box-sizing: border-box;margin-bottom: 0.5em;}#sk-container-id-2 div.sk-estimator:hover {background-color: #d4ebff;}#sk-container-id-2 div.sk-parallel-item::after {content: \"\";width: 100%;border-bottom: 1px solid gray;flex-grow: 1;}#sk-container-id-2 div.sk-label:hover label.sk-toggleable__label {background-color: #d4ebff;}#sk-container-id-2 div.sk-serial::before {content: \"\";position: absolute;border-left: 1px solid gray;box-sizing: border-box;top: 0;bottom: 0;left: 50%;z-index: 0;}#sk-container-id-2 div.sk-serial {display: flex;flex-direction: column;align-items: center;background-color: white;padding-right: 0.2em;padding-left: 0.2em;position: relative;}#sk-container-id-2 div.sk-item {position: relative;z-index: 1;}#sk-container-id-2 div.sk-parallel {display: flex;align-items: stretch;justify-content: center;background-color: white;position: relative;}#sk-container-id-2 div.sk-item::before, #sk-container-id-2 div.sk-parallel-item::before {content: \"\";position: absolute;border-left: 1px solid gray;box-sizing: border-box;top: 0;bottom: 0;left: 50%;z-index: -1;}#sk-container-id-2 div.sk-parallel-item {display: flex;flex-direction: column;z-index: 1;position: relative;background-color: white;}#sk-container-id-2 div.sk-parallel-item:first-child::after {align-self: flex-end;width: 50%;}#sk-container-id-2 div.sk-parallel-item:last-child::after {align-self: flex-start;width: 50%;}#sk-container-id-2 div.sk-parallel-item:only-child::after {width: 0;}#sk-container-id-2 div.sk-dashed-wrapped {border: 1px dashed gray;margin: 0 0.4em 0.5em 0.4em;box-sizing: border-box;padding-bottom: 0.4em;background-color: white;}#sk-container-id-2 div.sk-label label {font-family: monospace;font-weight: bold;display: inline-block;line-height: 1.2em;}#sk-container-id-2 div.sk-label-container {text-align: center;}#sk-container-id-2 div.sk-container {/* jupyter's `normalize.less` sets `[hidden] { display: none; }` but bootstrap.min.css set `[hidden] { display: none !important; }` so we also need the `!important` here to be able to override the default hidden behavior on the sphinx rendered scikit-learn.org. See: https://github.com/scikit-learn/scikit-learn/issues/21755 */display: inline-block !important;position: relative;}#sk-container-id-2 div.sk-text-repr-fallback {display: none;}</style><div id=\"sk-container-id-2\" class=\"sk-top-container\"><div class=\"sk-text-repr-fallback\"><pre>MLPClassifier(hidden_layer_sizes=(50,), max_iter=20, random_state=1, verbose=10)</pre><b>In a Jupyter environment, please rerun this cell to show the HTML representation or trust the notebook. <br />On GitHub, the HTML representation is unable to render, please try loading this page with nbviewer.org.</b></div><div class=\"sk-container\" hidden><div class=\"sk-item\"><div class=\"sk-estimator sk-toggleable\"><input class=\"sk-toggleable__control sk-hidden--visually\" id=\"sk-estimator-id-2\" type=\"checkbox\" checked><label for=\"sk-estimator-id-2\" class=\"sk-toggleable__label sk-toggleable__label-arrow\">MLPClassifier</label><div class=\"sk-toggleable__content\"><pre>MLPClassifier(hidden_layer_sizes=(50,), max_iter=20, random_state=1, verbose=10)</pre></div></div></div></div></div>"
      ],
      "text/plain": [
       "MLPClassifier(hidden_layer_sizes=(50,), max_iter=20, random_state=1, verbose=10)"
      ]
     },
     "execution_count": 19,
     "metadata": {},
     "output_type": "execute_result"
    }
   ],
   "source": [
    "from sklearn.neural_network import MLPClassifier\n",
    "\n",
    "mlp = MLPClassifier(hidden_layer_sizes=(50,), \n",
    "                    max_iter=20, verbose=10, random_state=1)\n",
    "mlp"
   ]
  },
  {
   "cell_type": "markdown",
   "metadata": {},
   "source": [
    "* __Q3: What are the hyperparameters in the above code cell?__\n",
    "> A3: The hyperparameters are those specified in the MLPClassifier class which include hidden_layer_sizes, max_iter, verbose, and random_state.\n",
    "\n",
    "* __Q4: Use [MLPClassifier Documentation](.https://scikit-learn.org/stable/modules/generated/sklearn.neural_network.MLPClassifier.html) to discover the default 'squashing' function__\n",
    "> A4: The squashing function is also called the activation function. The default used is relu."
   ]
  },
  {
   "cell_type": "markdown",
   "metadata": {
    "id": "Ma40M_UE_oDO"
   },
   "source": [
    "After we've created a model, we train the model on the `Training Set`. Then, we look at the training and test accuracy scores. Some things to notice:\n",
    "* While runnning `fit`, it prints out lines starting with `Iteration`. These lines inform us about the learning process which is done iteratively. With each iteration, the model gets smarter. With each iteration, the network model updates its weights based on the mis-classification (errors). The `loss` value is a measurement of how much error there is (but slightly different than accuracy).\n",
    "* With this architecture, we get really high training and test accuracy!\n",
    "\n",
    "*Note: You can ignore the convergence warning.*"
   ]
  },
  {
   "cell_type": "code",
   "execution_count": 20,
   "metadata": {
    "colab": {
     "base_uri": "https://localhost:8080/"
    },
    "id": "8hBpR22o3SuZ",
    "outputId": "2880069b-2568-42f2-fc26-7193c0c6c363"
   },
   "outputs": [
    {
     "name": "stdout",
     "output_type": "stream",
     "text": [
      "Iteration 1, loss = 0.52090613\n",
      "Iteration 2, loss = 0.25006049\n",
      "Iteration 3, loss = 0.19728192\n",
      "Iteration 4, loss = 0.16435969\n",
      "Iteration 5, loss = 0.14179291\n",
      "Iteration 6, loss = 0.12474275\n",
      "Iteration 7, loss = 0.11050647\n",
      "Iteration 8, loss = 0.09964098\n",
      "Iteration 9, loss = 0.09138456\n",
      "Iteration 10, loss = 0.08368557\n",
      "Iteration 11, loss = 0.07653627\n",
      "Iteration 12, loss = 0.07102342\n",
      "Iteration 13, loss = 0.06611803\n",
      "Iteration 14, loss = 0.06165941\n",
      "Iteration 15, loss = 0.05796496\n",
      "Iteration 16, loss = 0.05423640\n",
      "Iteration 17, loss = 0.05091589\n",
      "Iteration 18, loss = 0.04768671\n",
      "Iteration 19, loss = 0.04379011\n",
      "Iteration 20, loss = 0.04129559\n",
      "Training score 0.9899\n",
      "Testing score 0.9707\n"
     ]
    },
    {
     "name": "stderr",
     "output_type": "stream",
     "text": [
      "c:\\Users\\1115575\\.conda\\envs\\IDP3\\lib\\site-packages\\sklearn\\neural_network\\_multilayer_perceptron.py:691: ConvergenceWarning: Stochastic Optimizer: Maximum iterations (20) reached and the optimization hasn't converged yet.\n",
      "  warnings.warn(\n"
     ]
    }
   ],
   "source": [
    "mlp.fit(X_train, y_train)\n",
    "print('Training score', mlp.score(X_train, y_train))\n",
    "print('Testing score', mlp.score(X_test, y_test))"
   ]
  },
  {
   "cell_type": "markdown",
   "metadata": {},
   "source": [
    "* __Q5: What happens when you update the hyperparameter `max_iter` to some other value? Explain.__\n",
    "> A5: The number of iterations the model takes to train itself changes with the max_iter parameter. Increasing it from 10 to 20 brints the testing accuracy of the model from 0.968 to 0.9707. The more max interations we set, the more the accuracy I expect to see due to it eventually overfitting."
   ]
  },
  {
   "cell_type": "markdown",
   "metadata": {
    "id": "W4pjff5NAWK0"
   },
   "source": [
    "These networks are very sensitive to the hyper-parameters we use (parameters that specify the algorithm or model we are using). If you go ahead and add more layers and shorten the number of nodes at each layer, you get a pretty different accuracy! In the following example, we change the architecture of the network to have 5 hidden layers of 10 nodes each.\n",
    "\n",
    "This is one example of the complexities of neural networks! It's hard to predict how changing the architecture will affect the performance of the model. You can see in [this tool](https://playground.tensorflow.org/#activation=tanh&batchSize=10&dataset=circle&regDataset=reg-plane&learningRate=0.03&regularizationRate=0&noise=0&networkShape=4,2&seed=0.81962&showTestData=false&discretize=false&percTrainData=50&x=true&y=true&xTimesY=false&xSquared=false&ySquared=false&cosX=false&sinX=false&cosY=false&sinY=false&collectStats=false&problem=classification&initZero=false&hideText=false) how there are tons of knobs to tune for a neural network and it's very tough to predict how the output will be affected by those settings. This leads us to our next point of trying to find the best setting of these hyper-parameters."
   ]
  },
  {
   "cell_type": "code",
   "execution_count": 40,
   "metadata": {
    "colab": {
     "base_uri": "https://localhost:8080/"
    },
    "id": "Fq5mX4ba3Ysm",
    "outputId": "2c7017cb-29c4-43b6-c793-08c0ae93fce9"
   },
   "outputs": [
    {
     "name": "stdout",
     "output_type": "stream",
     "text": [
      "Iteration 1, loss = 1.45255343\n",
      "Iteration 2, loss = 0.57299610\n",
      "Iteration 3, loss = 0.38572560\n",
      "Iteration 4, loss = 0.32854750\n",
      "Iteration 5, loss = 0.30268236\n",
      "Iteration 6, loss = 0.28441232\n",
      "Iteration 7, loss = 0.27175338\n",
      "Iteration 8, loss = 0.26216631\n",
      "Iteration 9, loss = 0.25362123\n",
      "Iteration 10, loss = 0.24813976\n",
      "Training score 0.9289166666666666\n",
      "Testing score 0.9192\n"
     ]
    },
    {
     "name": "stderr",
     "output_type": "stream",
     "text": [
      "c:\\Users\\1115575\\.conda\\envs\\IDP3\\lib\\site-packages\\sklearn\\neural_network\\_multilayer_perceptron.py:691: ConvergenceWarning: Stochastic Optimizer: Maximum iterations (10) reached and the optimization hasn't converged yet.\n",
      "  warnings.warn(\n"
     ]
    }
   ],
   "source": [
    "mlpbest = MLPClassifier(hidden_layer_sizes=(10, 10, 10, 10, 10), \n",
    "                    max_iter=10, verbose=10, random_state=1)\n",
    "mlpbest.fit(X_train, y_train)\n",
    "print('Training score', mlpbest.score(X_train, y_train))\n",
    "print('Testing score', mlpbest.score(X_test, y_test))"
   ]
  },
  {
   "cell_type": "markdown",
   "metadata": {},
   "source": [
    "* __Q6: What does `hidden_layers_sizes=(10, 10, 10, 10, 10)` mean?__\n",
    "> A6: It means that there will be 5 hidden layers with 10 nodes each and this drastically changes the structure of the model."
   ]
  },
  {
   "cell_type": "markdown",
   "metadata": {
    "id": "vFIbnu6iMwG9"
   },
   "source": [
    "## Hyperparameter Tuning\n",
    "Since there is no good way of telling \"what the best settings are\", the only thing really left is to try them all and see which one is best.\n",
    "\n",
    "For this example, we will try a few different network architectures as well as modifying a new parameter called the \"learning rate\"; this parameter essentially controls how much we update the weights by on each iteration.\n",
    "\n",
    "The nested loop below trying every possible setting is a very common piece of code for machine learning where we have to try all combinations of the hyper-parameters."
   ]
  },
  {
   "cell_type": "code",
   "execution_count": 22,
   "metadata": {
    "colab": {
     "base_uri": "https://localhost:8080/"
    },
    "id": "UCN6EOhFMxXP",
    "outputId": "d866ff97-7506-4289-d8fe-587cd5a7f11c"
   },
   "outputs": [
    {
     "name": "stdout",
     "output_type": "stream",
     "text": [
      "Learning Rate 0.001, Size (10,)\n"
     ]
    },
    {
     "name": "stderr",
     "output_type": "stream",
     "text": [
      "c:\\Users\\1115575\\.conda\\envs\\IDP3\\lib\\site-packages\\sklearn\\neural_network\\_multilayer_perceptron.py:691: ConvergenceWarning: Stochastic Optimizer: Maximum iterations (10) reached and the optimization hasn't converged yet.\n",
      "  warnings.warn(\n"
     ]
    },
    {
     "name": "stdout",
     "output_type": "stream",
     "text": [
      "    Training set score: 0.935850\n",
      "    Test set score: 0.932600\n",
      "Learning Rate 0.001, Size (50,)\n"
     ]
    },
    {
     "name": "stderr",
     "output_type": "stream",
     "text": [
      "c:\\Users\\1115575\\.conda\\envs\\IDP3\\lib\\site-packages\\sklearn\\neural_network\\_multilayer_perceptron.py:691: ConvergenceWarning: Stochastic Optimizer: Maximum iterations (10) reached and the optimization hasn't converged yet.\n",
      "  warnings.warn(\n"
     ]
    },
    {
     "name": "stdout",
     "output_type": "stream",
     "text": [
      "    Training set score: 0.979383\n",
      "    Test set score: 0.968000\n",
      "Learning Rate 0.001, Size (10, 10, 10, 10)\n"
     ]
    },
    {
     "name": "stderr",
     "output_type": "stream",
     "text": [
      "c:\\Users\\1115575\\.conda\\envs\\IDP3\\lib\\site-packages\\sklearn\\neural_network\\_multilayer_perceptron.py:691: ConvergenceWarning: Stochastic Optimizer: Maximum iterations (10) reached and the optimization hasn't converged yet.\n",
      "  warnings.warn(\n"
     ]
    },
    {
     "name": "stdout",
     "output_type": "stream",
     "text": [
      "    Training set score: 0.928017\n",
      "    Test set score: 0.921700\n",
      "Learning Rate 0.01, Size (10,)\n"
     ]
    },
    {
     "name": "stderr",
     "output_type": "stream",
     "text": [
      "c:\\Users\\1115575\\.conda\\envs\\IDP3\\lib\\site-packages\\sklearn\\neural_network\\_multilayer_perceptron.py:691: ConvergenceWarning: Stochastic Optimizer: Maximum iterations (10) reached and the optimization hasn't converged yet.\n",
      "  warnings.warn(\n"
     ]
    },
    {
     "name": "stdout",
     "output_type": "stream",
     "text": [
      "    Training set score: 0.922650\n",
      "    Test set score: 0.915000\n",
      "Learning Rate 0.01, Size (50,)\n"
     ]
    },
    {
     "name": "stderr",
     "output_type": "stream",
     "text": [
      "c:\\Users\\1115575\\.conda\\envs\\IDP3\\lib\\site-packages\\sklearn\\neural_network\\_multilayer_perceptron.py:691: ConvergenceWarning: Stochastic Optimizer: Maximum iterations (10) reached and the optimization hasn't converged yet.\n",
      "  warnings.warn(\n"
     ]
    },
    {
     "name": "stdout",
     "output_type": "stream",
     "text": [
      "    Training set score: 0.980800\n",
      "    Test set score: 0.965900\n",
      "Learning Rate 0.01, Size (10, 10, 10, 10)\n"
     ]
    },
    {
     "name": "stderr",
     "output_type": "stream",
     "text": [
      "c:\\Users\\1115575\\.conda\\envs\\IDP3\\lib\\site-packages\\sklearn\\neural_network\\_multilayer_perceptron.py:691: ConvergenceWarning: Stochastic Optimizer: Maximum iterations (10) reached and the optimization hasn't converged yet.\n",
      "  warnings.warn(\n"
     ]
    },
    {
     "name": "stdout",
     "output_type": "stream",
     "text": [
      "    Training set score: 0.918150\n",
      "    Test set score: 0.909000\n",
      "Learning Rate 0.5, Size (10,)\n"
     ]
    },
    {
     "name": "stderr",
     "output_type": "stream",
     "text": [
      "c:\\Users\\1115575\\.conda\\envs\\IDP3\\lib\\site-packages\\sklearn\\neural_network\\_multilayer_perceptron.py:691: ConvergenceWarning: Stochastic Optimizer: Maximum iterations (10) reached and the optimization hasn't converged yet.\n",
      "  warnings.warn(\n"
     ]
    },
    {
     "name": "stdout",
     "output_type": "stream",
     "text": [
      "    Training set score: 0.102183\n",
      "    Test set score: 0.101000\n",
      "Learning Rate 0.5, Size (50,)\n"
     ]
    },
    {
     "name": "stderr",
     "output_type": "stream",
     "text": [
      "c:\\Users\\1115575\\.conda\\envs\\IDP3\\lib\\site-packages\\sklearn\\neural_network\\_multilayer_perceptron.py:691: ConvergenceWarning: Stochastic Optimizer: Maximum iterations (10) reached and the optimization hasn't converged yet.\n",
      "  warnings.warn(\n"
     ]
    },
    {
     "name": "stdout",
     "output_type": "stream",
     "text": [
      "    Training set score: 0.102183\n",
      "    Test set score: 0.101000\n",
      "Learning Rate 0.5, Size (10, 10, 10, 10)\n",
      "    Training set score: 0.112367\n",
      "    Test set score: 0.113500\n"
     ]
    },
    {
     "name": "stderr",
     "output_type": "stream",
     "text": [
      "c:\\Users\\1115575\\.conda\\envs\\IDP3\\lib\\site-packages\\sklearn\\neural_network\\_multilayer_perceptron.py:691: ConvergenceWarning: Stochastic Optimizer: Maximum iterations (10) reached and the optimization hasn't converged yet.\n",
      "  warnings.warn(\n"
     ]
    }
   ],
   "source": [
    "learning_rates = [0.001, 0.01, 0.5]\n",
    "sizes = [(10,), (50,), (10, 10, 10, 10),]\n",
    "for learning_rate in learning_rates:\n",
    "    for size in sizes:\n",
    "        print(f'Learning Rate {learning_rate}, Size {size}')\n",
    "        mlp = MLPClassifier(hidden_layer_sizes=size, max_iter=10,\n",
    "                            random_state=1, learning_rate_init=learning_rate)\n",
    "        mlp.fit(X_train, y_train)\n",
    "        print(\"    Training set score: %f\" % mlp.score(X_train, y_train))\n",
    "        print(\"    Test set score: %f\" % mlp.score(X_test, y_test))"
   ]
  },
  {
   "cell_type": "markdown",
   "metadata": {
    "id": "7R8OGBMGBer2"
   },
   "source": [
    "How would we choose which hyper-parameters to use?\n",
    "\n",
    "*   Should we use the ones that maximize the training accuracy? Not necessarily since this might just select the most complicated model that is most likely to overfit to the data.\n",
    "*   Should we use the ones that maximize the test accuracy? This is a better idea since we we won't necessarily pick a model that overfit to the training set. However, this is not a good idea since it ruins the point of a test set! Why did we want the test set? We wanted a test set to let use give a good estimate of how our model will do in the future. If we picked a model that maximized the test-accuracy, this accuracy is no longer a good estimate of how it will do on future data since we chose the model that did best on that specific dataset.\n",
    "\n",
    "So to make this work, we generally split the training set into another set called the \"validation\" or \"dev\" set that we use to pick the hyper-parameter settings. Then we can leave the test set untouched until the very end of our project. At that point, we can test our final model we selected on that test set and get an accurate estimate of its performance in the future!\n",
    "\n"
   ]
  },
  {
   "cell_type": "markdown",
   "metadata": {},
   "source": [
    "* __Q7: What hyperparameters were best?__\n",
    "> A7: The best hyperparameters were Learning Rate 0.01, Size (50,) and Learning Rate 0.001, Size (10, 10, 10, 10)\n",
    "\n",
    "* __Q8: Explain how having an extra, reserved dataset (called 'validation' or 'dev') is used and why? Does is seem similar to the Veritasium video, \"Is most published research wrong?\" How?__\n",
    "> A8: Having the extra reserved dataset allows us to set the hyperparameter settings and leave the test set untouched for the future when we want to get an accurate estimate of its performance."
   ]
  },
  {
   "cell_type": "markdown",
   "metadata": {},
   "source": [
    "## Convolutional Neural Network\n",
    "Now that we have a better understanding of neural networks, we will briefly give you an idea of how that \"convolutional neural network\" (or CNN) we talked about in the last lesson works. A CNN is like any other neural network, but some of the layers use a special mechanism for a convolution. They treat the network weights for that layer as the the values inside the kernel, and then convolve those weights across the image to compute values.\n",
    "\n",
    "Generally, these convolutional layers happen earlier in the network since their job is to compute low-level features in the data (e.g., \"is there an edge here\"). The trick is that these convolutional layers learn their weights just like any other layer, so the network can essentially learn kernels that work best for its task!"
   ]
  },
  {
   "cell_type": "markdown",
   "metadata": {},
   "source": [
    "# Closing Activity\n",
    "## Part 1\n",
    "Load the image named 'mynum3.png' found in the same folder as this notebook.\n",
    "\n",
    "  \n",
    "```python\n",
    "three = imageio.imread('mynum3.png')\n",
    "# adjust it and plot it\n",
    "plt.imshow(three, cmap=plt.cm.gray)\n",
    "```\n",
    "## Part 2\n",
    "Shape and convert the values so that it is a 1D array of length 784 and the values are between 0.0 and 1.0. In this case, the values will be either 0 or 1. Then, use one of the models trained above to make a prediction on this image. The call to `predict` takes an array of `examples` to predict. So, you'll need to pass in something of shape (1, 784)."
   ]
  },
  {
   "cell_type": "code",
   "execution_count": 43,
   "metadata": {},
   "outputs": [
    {
     "name": "stdout",
     "output_type": "stream",
     "text": [
      "['3']\n"
     ]
    },
    {
     "name": "stderr",
     "output_type": "stream",
     "text": [
      "c:\\Users\\1115575\\.conda\\envs\\IDP3\\lib\\site-packages\\sklearn\\base.py:464: UserWarning: X does not have valid feature names, but MLPClassifier was fitted with feature names\n",
      "  warnings.warn(\n"
     ]
    },
    {
     "data": {
      "image/png": "[encoded data removed]",
      "text/plain": [
       "<Figure size 640x480 with 1 Axes>"
      ]
     },
     "metadata": {},
     "output_type": "display_data"
    }
   ],
   "source": [
    "#Part 1\n",
    "three = imageio.imread('mynum3.png')\n",
    "plt.imshow(three, cmap=plt.cm.gray)\n",
    "\n",
    "#Part 2\n",
    "new = np.zeros((1, 784))\n",
    "index = 0\n",
    "for box in three:\n",
    "    for pixel in box:\n",
    "        if pixel.mean() < 127:\n",
    "            new[0, index] = 0.0\n",
    "        else:\n",
    "            new[0, index] = 1.0\n",
    "        index += 1\n",
    "print(mlpbest.predict(new))"
   ]
  }
 ],
 "metadata": {
  "kernelspec": {
   "display_name": "idp",
   "language": "python",
   "name": "python3"
  },
  "language_info": {
   "codemirror_mode": {
    "name": "ipython",
    "version": 3
   },
   "file_extension": ".py",
   "mimetype": "text/x-python",
   "name": "python",
   "nbconvert_exporter": "python",
   "pygments_lexer": "ipython3",
   "version": "3.8.19"
  }
 },
 "nbformat": 4,
 "nbformat_minor": 4
}
