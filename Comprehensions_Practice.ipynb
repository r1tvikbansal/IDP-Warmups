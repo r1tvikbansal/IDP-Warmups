{
 "cells": [
  {
   "cell_type": "markdown",
   "id": "ab0fde9a",
   "metadata": {},
   "source": [
    "# Comprehension Practice"
   ]
  },
  {
   "cell_type": "code",
   "execution_count": 3,
   "id": "d1eedb83",
   "metadata": {},
   "outputs": [
    {
     "name": "stdout",
     "output_type": "stream",
     "text": [
      "[5, 7, 9, 11, 13, 15, 17, 19, 21, 23, 25, 27]\n"
     ]
    }
   ],
   "source": [
    "import pandas as pd\n",
    "import numpy as np\n",
    "import random\n",
    "\n",
    "# Create a list of odd numbers from 5 to 27 inclusive\n",
    "odd = [num for num in range(5, 28) if num % 2 == 1]\n",
    "print(odd)"
   ]
  },
  {
   "cell_type": "code",
   "execution_count": 4,
   "id": "343ff37d",
   "metadata": {},
   "outputs": [
    {
     "name": "stdout",
     "output_type": "stream",
     "text": [
      "[7, 11, 14, 21, 22, 28, 33, 35, 42, 44, 49, 55, 56, 63, 66, 70, 77, 84, 88, 91, 98, 99]\n"
     ]
    }
   ],
   "source": [
    "# create a list of numbers divisible by 7 or 11 that are between 1 and 100\n",
    "nums = [num for num in range(1, 100) if num % 7 == 0 or num % 11 == 0]\n",
    "print(nums)"
   ]
  },
  {
   "cell_type": "code",
   "execution_count": 5,
   "id": "1bd29db5",
   "metadata": {},
   "outputs": [
    {
     "name": "stdout",
     "output_type": "stream",
     "text": [
      "[1, 4, 9, 16, 25, 36, 49, 64, 81, 100]\n"
     ]
    }
   ],
   "source": [
    "# create a list of the squares from 1 to 100. [ 1, 4, 9, 16, 25, ... 100]\n",
    "squares = [num * num for num in range(1, 11)]\n",
    "print(squares)\n"
   ]
  },
  {
   "cell_type": "code",
   "execution_count": 6,
   "id": "c45b8539",
   "metadata": {},
   "outputs": [
    {
     "name": "stdout",
     "output_type": "stream",
     "text": [
      "[32, 24, 17, 22, 33, 23, 33, 16, 19, 22, 30, 29, 13, 28, 30, 31, 26, 33, 22, 26, 30, 31, 13, 15, 21, 16, 31, 30, 28, 17, 17, 25, 17, 25, 15, 16, 32, 17, 26, 31, 18, 19, 23, 22, 31, 22, 14, 22, 20, 33]\n",
      "[100, 74, 76, 70, 80, 83, 88, 70, 74, 76, 89, 79, 84, 70, 65, 79, 81, 94, 65, 73, 84, 70, 72, 94, 92, 78, 85, 82, 82, 93, 78, 100, 69, 80, 100, 98, 89, 68, 84, 79, 90, 66, 94, 97, 66, 72, 69, 90, 67, 80]\n",
      "['b', 'k', 'm', 'j', 'a', 'f', 'm', 'b', 'l', 'd', 'd', 'f', 'd', 'g', 'g', 'i', 'e', 'h', 'g', 'b', 'h', 'k', 'c', 'h', 'l', 'i', 'k', 'm', 'b', 'c', 'k', 'k', 'b', 'e', 'h', 'a', 'b', 'h', 'f', 'c', 'l', 'm', 'k', 'c', 'h', 'j', 'a', 'l', 'j', 'g']\n",
      "   letter  num  score\n",
      "0       b   32    100\n",
      "1       k   24     74\n",
      "2       m   17     76\n",
      "3       j   22     70\n",
      "4       a   33     80\n",
      "5       f   23     83\n",
      "6       m   33     88\n",
      "7       b   16     70\n",
      "8       l   19     74\n",
      "9       d   22     76\n",
      "10      d   30     89\n",
      "11      f   29     79\n",
      "12      d   13     84\n",
      "13      g   28     70\n",
      "14      g   30     65\n",
      "15      i   31     79\n",
      "16      e   26     81\n",
      "17      h   33     94\n",
      "18      g   22     65\n",
      "19      b   26     73\n",
      "20      h   30     84\n",
      "21      k   31     70\n",
      "22      c   13     72\n",
      "23      h   15     94\n",
      "24      l   21     92\n",
      "25      i   16     78\n",
      "26      k   31     85\n",
      "27      m   30     82\n",
      "28      b   28     82\n",
      "29      c   17     93\n",
      "30      k   17     78\n",
      "31      k   25    100\n",
      "32      b   17     69\n",
      "33      e   25     80\n",
      "34      h   15    100\n",
      "35      a   16     98\n",
      "36      b   32     89\n",
      "37      h   17     68\n",
      "38      f   26     84\n",
      "39      c   31     79\n",
      "40      l   18     90\n",
      "41      m   19     66\n",
      "42      k   23     94\n",
      "43      c   22     97\n",
      "44      h   31     66\n",
      "45      j   22     72\n",
      "46      a   14     69\n",
      "47      l   22     90\n",
      "48      j   20     67\n",
      "49      g   33     80\n"
     ]
    }
   ],
   "source": [
    "# use random.randint() to create a list of 50 random numbers from 13-33 inclusive\n",
    "nums = [random.randint(13, 33) for num in range(50)]\n",
    "print(nums)\n",
    "\n",
    "# create a list of 50 random numbers from 65-100 inclusive\n",
    "scores = [random.randint(65, 100) for num in range(50)]\n",
    "print(scores)\n",
    "\n",
    "# # create a list of 50 random letters from 'a' to 'm' inclusive\n",
    "letters = [random.choice('abcdefghijklm') for num in range(50)]\n",
    "print(letters)\n",
    "\n",
    "# create a dataframe with 3 columns and 50 rows\n",
    "# letter :  a random letter selected from 'a' to 'm'\n",
    "# num : a random number between 13 - 33 inclusive\n",
    "# score : a random number between 65 - 100 inclusive\n",
    "data = zip(letters, nums, scores)\n",
    "df = pd.DataFrame(data, columns=['letter', 'num', 'score'])\n",
    "print(df)"
   ]
  },
  {
   "cell_type": "code",
   "execution_count": 13,
   "id": "e6167e57",
   "metadata": {},
   "outputs": [
    {
     "ename": "KeyError",
     "evalue": "2",
     "output_type": "error",
     "traceback": [
      "\u001b[1;31m---------------------------------------------------------------------------\u001b[0m",
      "\u001b[1;31mKeyError\u001b[0m                                  Traceback (most recent call last)",
      "File \u001b[1;32mc:\\Users\\1115575\\.conda\\envs\\IDP3\\lib\\site-packages\\pandas\\core\\indexes\\base.py:3653\u001b[0m, in \u001b[0;36mIndex.get_loc\u001b[1;34m(self, key)\u001b[0m\n\u001b[0;32m   3652\u001b[0m \u001b[38;5;28;01mtry\u001b[39;00m:\n\u001b[1;32m-> 3653\u001b[0m     \u001b[38;5;28;01mreturn\u001b[39;00m \u001b[38;5;28;43mself\u001b[39;49m\u001b[38;5;241;43m.\u001b[39;49m\u001b[43m_engine\u001b[49m\u001b[38;5;241;43m.\u001b[39;49m\u001b[43mget_loc\u001b[49m\u001b[43m(\u001b[49m\u001b[43mcasted_key\u001b[49m\u001b[43m)\u001b[49m\n\u001b[0;32m   3654\u001b[0m \u001b[38;5;28;01mexcept\u001b[39;00m \u001b[38;5;167;01mKeyError\u001b[39;00m \u001b[38;5;28;01mas\u001b[39;00m err:\n",
      "File \u001b[1;32mc:\\Users\\1115575\\.conda\\envs\\IDP3\\lib\\site-packages\\pandas\\_libs\\index.pyx:147\u001b[0m, in \u001b[0;36mpandas._libs.index.IndexEngine.get_loc\u001b[1;34m()\u001b[0m\n",
      "File \u001b[1;32mc:\\Users\\1115575\\.conda\\envs\\IDP3\\lib\\site-packages\\pandas\\_libs\\index.pyx:176\u001b[0m, in \u001b[0;36mpandas._libs.index.IndexEngine.get_loc\u001b[1;34m()\u001b[0m\n",
      "File \u001b[1;32mpandas\\_libs\\hashtable_class_helper.pxi:7080\u001b[0m, in \u001b[0;36mpandas._libs.hashtable.PyObjectHashTable.get_item\u001b[1;34m()\u001b[0m\n",
      "File \u001b[1;32mpandas\\_libs\\hashtable_class_helper.pxi:7088\u001b[0m, in \u001b[0;36mpandas._libs.hashtable.PyObjectHashTable.get_item\u001b[1;34m()\u001b[0m\n",
      "\u001b[1;31mKeyError\u001b[0m: 2",
      "\nThe above exception was the direct cause of the following exception:\n",
      "\u001b[1;31mKeyError\u001b[0m                                  Traceback (most recent call last)",
      "Cell \u001b[1;32mIn[13], line 3\u001b[0m\n\u001b[0;32m      1\u001b[0m \u001b[38;5;66;03m# create a list of letters in the generate dataframe that have a score > 90\u001b[39;00m\n\u001b[0;32m      2\u001b[0m \u001b[38;5;66;03m# use df.loc and range()\u001b[39;00m\n\u001b[1;32m----> 3\u001b[0m \u001b[38;5;28mprint\u001b[39m(\u001b[43mdf\u001b[49m\u001b[43m[\u001b[49m\u001b[38;5;241;43m2\u001b[39;49m\u001b[43m]\u001b[49m)\n\u001b[0;32m      4\u001b[0m \u001b[38;5;66;03m# print([index for index in range(50) if df[index]['score'] > 90])\u001b[39;00m\n\u001b[0;32m      5\u001b[0m gt90 \u001b[38;5;241m=\u001b[39m df\u001b[38;5;241m.\u001b[39mloc[\u001b[38;5;241m1\u001b[39m]\n",
      "File \u001b[1;32mc:\\Users\\1115575\\.conda\\envs\\IDP3\\lib\\site-packages\\pandas\\core\\frame.py:3761\u001b[0m, in \u001b[0;36mDataFrame.__getitem__\u001b[1;34m(self, key)\u001b[0m\n\u001b[0;32m   3759\u001b[0m \u001b[38;5;28;01mif\u001b[39;00m \u001b[38;5;28mself\u001b[39m\u001b[38;5;241m.\u001b[39mcolumns\u001b[38;5;241m.\u001b[39mnlevels \u001b[38;5;241m>\u001b[39m \u001b[38;5;241m1\u001b[39m:\n\u001b[0;32m   3760\u001b[0m     \u001b[38;5;28;01mreturn\u001b[39;00m \u001b[38;5;28mself\u001b[39m\u001b[38;5;241m.\u001b[39m_getitem_multilevel(key)\n\u001b[1;32m-> 3761\u001b[0m indexer \u001b[38;5;241m=\u001b[39m \u001b[38;5;28;43mself\u001b[39;49m\u001b[38;5;241;43m.\u001b[39;49m\u001b[43mcolumns\u001b[49m\u001b[38;5;241;43m.\u001b[39;49m\u001b[43mget_loc\u001b[49m\u001b[43m(\u001b[49m\u001b[43mkey\u001b[49m\u001b[43m)\u001b[49m\n\u001b[0;32m   3762\u001b[0m \u001b[38;5;28;01mif\u001b[39;00m is_integer(indexer):\n\u001b[0;32m   3763\u001b[0m     indexer \u001b[38;5;241m=\u001b[39m [indexer]\n",
      "File \u001b[1;32mc:\\Users\\1115575\\.conda\\envs\\IDP3\\lib\\site-packages\\pandas\\core\\indexes\\base.py:3655\u001b[0m, in \u001b[0;36mIndex.get_loc\u001b[1;34m(self, key)\u001b[0m\n\u001b[0;32m   3653\u001b[0m     \u001b[38;5;28;01mreturn\u001b[39;00m \u001b[38;5;28mself\u001b[39m\u001b[38;5;241m.\u001b[39m_engine\u001b[38;5;241m.\u001b[39mget_loc(casted_key)\n\u001b[0;32m   3654\u001b[0m \u001b[38;5;28;01mexcept\u001b[39;00m \u001b[38;5;167;01mKeyError\u001b[39;00m \u001b[38;5;28;01mas\u001b[39;00m err:\n\u001b[1;32m-> 3655\u001b[0m     \u001b[38;5;28;01mraise\u001b[39;00m \u001b[38;5;167;01mKeyError\u001b[39;00m(key) \u001b[38;5;28;01mfrom\u001b[39;00m \u001b[38;5;21;01merr\u001b[39;00m\n\u001b[0;32m   3656\u001b[0m \u001b[38;5;28;01mexcept\u001b[39;00m \u001b[38;5;167;01mTypeError\u001b[39;00m:\n\u001b[0;32m   3657\u001b[0m     \u001b[38;5;66;03m# If we have a listlike key, _check_indexing_error will raise\u001b[39;00m\n\u001b[0;32m   3658\u001b[0m     \u001b[38;5;66;03m#  InvalidIndexError. Otherwise we fall through and re-raise\u001b[39;00m\n\u001b[0;32m   3659\u001b[0m     \u001b[38;5;66;03m#  the TypeError.\u001b[39;00m\n\u001b[0;32m   3660\u001b[0m     \u001b[38;5;28mself\u001b[39m\u001b[38;5;241m.\u001b[39m_check_indexing_error(key)\n",
      "\u001b[1;31mKeyError\u001b[0m: 2"
     ]
    }
   ],
   "source": [
    "# create a list of letters in the generate dataframe that have a score > 90\n",
    "# use df.loc and range()\n",
    "print([index for index in range(50) if df[index]['score'] > 90])\n",
    "gt90 = df.loc[1]\n",
    "print(gt90)\n",
    "\n",
    "# # same thing, but use filters\n",
    "condition = df['score'] > 90\n",
    "gt90 = df[condition]\n",
    "print(gt90)\n",
    "\n",
    "# # print out a sorted list of unique letters in df that have a score > 90.\n",
    "# # Hint: use gt90 and sets\n",
    "# un_gt90 = \n",
    "# print(un_gt90)\n"
   ]
  },
  {
   "cell_type": "code",
   "execution_count": null,
   "id": "ac9eb145",
   "metadata": {},
   "outputs": [],
   "source": [
    "# find the count of times each letter appears in the df\n",
    "counts = \n",
    "print(counts)\n",
    "\n",
    "# find the count of times each letter has a score above 90\n",
    "counts = \n",
    "print(counts)\n",
    "\n",
    "# print the letter that has a score above 90 the most number of times\n",
    "print('most above 90', )"
   ]
  },
  {
   "cell_type": "code",
   "execution_count": null,
   "id": "6c9c8c49",
   "metadata": {},
   "outputs": [],
   "source": [
    "# create a dataframe with two columns:\n",
    "# letter 'a' - 'm'\n",
    "# state: random from ['WA', 'CA', 'OR', 'NV' ]\n",
    "# using a comprehension, create a list of letters a-m, inclusive\n",
    "letters = \n",
    "# using random.choice, create a list of length 13 that is a random\n",
    "# selection of states in ['WA', 'CA', 'OR', 'NV' ]\n",
    "states =\n",
    "# create a dataframe that has two columns, 'letter' and 'state' using\n",
    "# the two lists created above\n",
    "df2 =\n",
    "\n",
    "\n"
   ]
  },
  {
   "cell_type": "code",
   "execution_count": null,
   "id": "6cd347ce",
   "metadata": {},
   "outputs": [],
   "source": [
    "\n",
    "# join the above DataFrame with this latest dataframe, df2, that has states.\n",
    "# The joined dataframe should have all 50 rows from df.\n",
    "df3 = \n",
    "\n",
    "# display the first 10 rows of the resulting join.\n"
   ]
  },
  {
   "cell_type": "code",
   "execution_count": null,
   "id": "27dd8e30",
   "metadata": {},
   "outputs": [],
   "source": [
    "# display the state that has the greatest number of unique letters.\n",
    "most_unique =\n",
    "print('most unique', most_unique)\n",
    "\n",
    "# display all those unique letters in that state (any order)\n",
    "most_unique_letters = \n",
    "print(most_unique_letters)\n"
   ]
  },
  {
   "cell_type": "code",
   "execution_count": null,
   "id": "22a7ef27",
   "metadata": {},
   "outputs": [],
   "source": [
    "# for each of these letters, get the highest score they have\n",
    "# then, display the letters in order from highest to lowest.\n",
    "# display this as a Series where the index is the letter, and the score is the value.\n"
   ]
  },
  {
   "cell_type": "code",
   "execution_count": null,
   "id": "bd569f0d",
   "metadata": {},
   "outputs": [],
   "source": []
  }
 ],
 "metadata": {
  "kernelspec": {
   "display_name": "Python 3 (ipykernel)",
   "language": "python",
   "name": "python3"
  },
  "language_info": {
   "codemirror_mode": {
    "name": "ipython",
    "version": 3
   },
   "file_extension": ".py",
   "mimetype": "text/x-python",
   "name": "python",
   "nbconvert_exporter": "python",
   "pygments_lexer": "ipython3",
   "version": "3.8.19"
  }
 },
 "nbformat": 4,
 "nbformat_minor": 5
}
