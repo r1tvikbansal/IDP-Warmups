{
 "cells": [
  {
   "cell_type": "markdown",
   "id": "ab0fde9a",
   "metadata": {},
   "source": [
    "# Comprehension Practice"
   ]
  },
  {
   "cell_type": "code",
   "execution_count": 2,
   "id": "d1eedb83",
   "metadata": {},
   "outputs": [
    {
     "name": "stdout",
     "output_type": "stream",
     "text": [
      "[5, 7, 9, 11, 13, 15, 17, 19, 21, 23, 25, 27]\n"
     ]
    }
   ],
   "source": [
    "import pandas as pd\n",
    "import numpy as np\n",
    "import random\n",
    "\n",
    "# Create a list of odd numbers from 5 to 27 inclusive\n",
    "odd = [num for num in range(5, 28) if num % 2 == 1]\n",
    "print(odd)"
   ]
  },
  {
   "cell_type": "code",
   "execution_count": 3,
   "id": "343ff37d",
   "metadata": {},
   "outputs": [
    {
     "name": "stdout",
     "output_type": "stream",
     "text": [
      "[7, 11, 14, 21, 22, 28, 33, 35, 42, 44, 49, 55, 56, 63, 66, 70, 77, 84, 88, 91, 98, 99]\n"
     ]
    }
   ],
   "source": [
    "# create a list of numbers divisible by 7 or 11 that are between 1 and 100\n",
    "nums = [num for num in range(1, 100) if num % 7 == 0 or num % 11 == 0]\n",
    "print(nums)"
   ]
  },
  {
   "cell_type": "code",
   "execution_count": 4,
   "id": "1bd29db5",
   "metadata": {},
   "outputs": [
    {
     "name": "stdout",
     "output_type": "stream",
     "text": [
      "[1, 4, 9, 16, 25, 36, 49, 64, 81, 100]\n"
     ]
    }
   ],
   "source": [
    "# create a list of the squares from 1 to 100. [ 1, 4, 9, 16, 25, ... 100]\n",
    "squares = [num * num for num in range(1, 11)]\n",
    "print(squares)\n"
   ]
  },
  {
   "cell_type": "code",
   "execution_count": 12,
   "id": "c45b8539",
   "metadata": {},
   "outputs": [
    {
     "name": "stdout",
     "output_type": "stream",
     "text": [
      "[25, 19, 23, 20, 23, 15, 29, 30, 31, 32, 14, 18, 13, 14, 32, 18, 28, 15, 28, 32, 23, 30, 19, 32, 20, 17, 22, 29, 26, 23, 14, 14, 30, 21, 18, 16, 17, 25, 33, 32, 23, 27, 19, 17, 20, 13, 13, 28, 25, 16]\n",
      "[98, 87, 93, 70, 66, 88, 86, 77, 66, 88, 93, 73, 91, 97, 87, 66, 71, 83, 93, 97, 89, 65, 82, 95, 90, 70, 82, 82, 81, 91, 86, 93, 69, 94, 70, 96, 90, 79, 90, 67, 99, 73, 100, 78, 75, 92, 83, 68, 83, 75]\n"
     ]
    },
    {
     "ename": "TypeError",
     "evalue": "Random.random() takes no arguments (2 given)",
     "output_type": "error",
     "traceback": [
      "\u001b[1;31m---------------------------------------------------------------------------\u001b[0m",
      "\u001b[1;31mTypeError\u001b[0m                                 Traceback (most recent call last)",
      "Cell \u001b[1;32mIn[12], line 10\u001b[0m\n\u001b[0;32m      7\u001b[0m \u001b[38;5;28mprint\u001b[39m(scores)\n\u001b[0;32m      9\u001b[0m \u001b[38;5;66;03m# # create a list of 50 random letters from 'a' to 'm' inclusive\u001b[39;00m\n\u001b[1;32m---> 10\u001b[0m letters \u001b[38;5;241m=\u001b[39m [random\u001b[38;5;241m.\u001b[39mrandom(\u001b[38;5;124m'\u001b[39m\u001b[38;5;124ma\u001b[39m\u001b[38;5;124m'\u001b[39m, \u001b[38;5;124m'\u001b[39m\u001b[38;5;124mm\u001b[39m\u001b[38;5;124m'\u001b[39m) \u001b[38;5;28;01mfor\u001b[39;00m num \u001b[38;5;129;01min\u001b[39;00m \u001b[38;5;28mrange\u001b[39m(\u001b[38;5;241m50\u001b[39m)]\n\u001b[0;32m     11\u001b[0m \u001b[38;5;28mprint\u001b[39m(letters)\n",
      "Cell \u001b[1;32mIn[12], line 10\u001b[0m, in \u001b[0;36m<listcomp>\u001b[1;34m(.0)\u001b[0m\n\u001b[0;32m      7\u001b[0m \u001b[38;5;28mprint\u001b[39m(scores)\n\u001b[0;32m      9\u001b[0m \u001b[38;5;66;03m# # create a list of 50 random letters from 'a' to 'm' inclusive\u001b[39;00m\n\u001b[1;32m---> 10\u001b[0m letters \u001b[38;5;241m=\u001b[39m [random\u001b[38;5;241m.\u001b[39mrandom(\u001b[38;5;124m'\u001b[39m\u001b[38;5;124ma\u001b[39m\u001b[38;5;124m'\u001b[39m, \u001b[38;5;124m'\u001b[39m\u001b[38;5;124mm\u001b[39m\u001b[38;5;124m'\u001b[39m) \u001b[38;5;28;01mfor\u001b[39;00m num \u001b[38;5;129;01min\u001b[39;00m \u001b[38;5;28mrange\u001b[39m(\u001b[38;5;241m50\u001b[39m)]\n\u001b[0;32m     11\u001b[0m \u001b[38;5;28mprint\u001b[39m(letters)\n",
      "\u001b[1;31mTypeError\u001b[0m: Random.random() takes no arguments (2 given)"
     ]
    }
   ],
   "source": [
    "# use random.randint() to create a list of 50 random numbers from 13-33 inclusive\n",
    "nums = [random.randint(13, 33) for num in range(50)]\n",
    "print(nums)\n",
    "\n",
    "# create a list of 50 random numbers from 65-100 inclusive\n",
    "scores = [random.randint(65, 100) for num in range(50)]\n",
    "print(scores)\n",
    "\n",
    "# # create a list of 50 random letters from 'a' to 'm' inclusive\n",
    "letters = [random.random('a', 'm') for num in range(50)]\n",
    "print(letters)\n",
    "\n",
    "# create a dataframe with 3 columns and 50 rows\n",
    "# letter :  a random letter selected from 'a' to 'm'\n",
    "# num : a random number between 13 - 33 inclusive\n",
    "# score : a random number between 65 - 100 inclusive\n",
    "\n",
    "# df = "
   ]
  },
  {
   "cell_type": "code",
   "execution_count": null,
   "id": "e6167e57",
   "metadata": {},
   "outputs": [],
   "source": [
    "# create a list of letters in the generate dataframe that have a score > 90\n",
    "# use df.loc and range()\n",
    "gt90 = \n",
    "print(gt90)\n",
    "\n",
    "# same thing, but use filters\n",
    "gt90 = \n",
    "print(gt90)\n",
    "\n",
    "# print out a sorted list of unique letters in df that have a score > 90.\n",
    "# Hint: use gt90 and sets\n",
    "un_gt90 = \n",
    "print(un_gt90)\n"
   ]
  },
  {
   "cell_type": "code",
   "execution_count": null,
   "id": "ac9eb145",
   "metadata": {},
   "outputs": [],
   "source": [
    "# find the count of times each letter appears in the df\n",
    "counts = \n",
    "print(counts)\n",
    "\n",
    "# find the count of times each letter has a score above 90\n",
    "counts = \n",
    "print(counts)\n",
    "\n",
    "# print the letter that has a score above 90 the most number of times\n",
    "print('most above 90', )"
   ]
  },
  {
   "cell_type": "code",
   "execution_count": null,
   "id": "6c9c8c49",
   "metadata": {},
   "outputs": [],
   "source": [
    "# create a dataframe with two columns:\n",
    "# letter 'a' - 'm'\n",
    "# state: random from ['WA', 'CA', 'OR', 'NV' ]\n",
    "# using a comprehension, create a list of letters a-m, inclusive\n",
    "letters = \n",
    "# using random.choice, create a list of length 13 that is a random\n",
    "# selection of states in ['WA', 'CA', 'OR', 'NV' ]\n",
    "states =\n",
    "# create a dataframe that has two columns, 'letter' and 'state' using\n",
    "# the two lists created above\n",
    "df2 =\n",
    "\n",
    "\n"
   ]
  },
  {
   "cell_type": "code",
   "execution_count": null,
   "id": "6cd347ce",
   "metadata": {},
   "outputs": [],
   "source": [
    "\n",
    "# join the above DataFrame with this latest dataframe, df2, that has states.\n",
    "# The joined dataframe should have all 50 rows from df.\n",
    "df3 = \n",
    "\n",
    "# display the first 10 rows of the resulting join.\n"
   ]
  },
  {
   "cell_type": "code",
   "execution_count": null,
   "id": "27dd8e30",
   "metadata": {},
   "outputs": [],
   "source": [
    "# display the state that has the greatest number of unique letters.\n",
    "most_unique =\n",
    "print('most unique', most_unique)\n",
    "\n",
    "# display all those unique letters in that state (any order)\n",
    "most_unique_letters = \n",
    "print(most_unique_letters)\n"
   ]
  },
  {
   "cell_type": "code",
   "execution_count": null,
   "id": "22a7ef27",
   "metadata": {},
   "outputs": [],
   "source": [
    "# for each of these letters, get the highest score they have\n",
    "# then, display the letters in order from highest to lowest.\n",
    "# display this as a Series where the index is the letter, and the score is the value.\n"
   ]
  },
  {
   "cell_type": "code",
   "execution_count": null,
   "id": "bd569f0d",
   "metadata": {},
   "outputs": [],
   "source": []
  }
 ],
 "metadata": {
  "kernelspec": {
   "display_name": "Python 3 (ipykernel)",
   "language": "python",
   "name": "python3"
  },
  "language_info": {
   "codemirror_mode": {
    "name": "ipython",
    "version": 3
   },
   "file_extension": ".py",
   "mimetype": "text/x-python",
   "name": "python",
   "nbconvert_exporter": "python",
   "pygments_lexer": "ipython3",
   "version": "3.11.7"
  }
 },
 "nbformat": 4,
 "nbformat_minor": 5
}
