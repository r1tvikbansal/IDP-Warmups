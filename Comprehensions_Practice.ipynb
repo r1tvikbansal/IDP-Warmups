{
 "cells": [
  {
   "cell_type": "markdown",
   "id": "ab0fde9a",
   "metadata": {},
   "source": [
    "# Comprehension Practice"
   ]
  },
  {
   "cell_type": "code",
   "execution_count": 3,
   "id": "d1eedb83",
   "metadata": {},
   "outputs": [
    {
     "name": "stdout",
     "output_type": "stream",
     "text": [
      "[5, 7, 9, 11, 13, 15, 17, 19, 21, 23, 25, 27]\n"
     ]
    }
   ],
   "source": [
    "import pandas as pd\n",
    "import numpy as np\n",
    "import random\n",
    "\n",
    "# Create a list of odd numbers from 5 to 27 inclusive\n",
    "odd = [num for num in range(5, 28) if num % 2 == 1]\n",
    "print(odd)"
   ]
  },
  {
   "cell_type": "code",
   "execution_count": 3,
   "id": "343ff37d",
   "metadata": {},
   "outputs": [
    {
     "name": "stdout",
     "output_type": "stream",
     "text": [
      "[7, 11, 14, 21, 22, 28, 33, 35, 42, 44, 49, 55, 56, 63, 66, 70, 77, 84, 88, 91, 98, 99]\n"
     ]
    }
   ],
   "source": [
    "# create a list of numbers divisible by 7 or 11 that are between 1 and 100\n",
    "nums = [num for num in range(1, 100) if num % 7 == 0 or num % 11 == 0]\n",
    "print(nums)"
   ]
  },
  {
   "cell_type": "code",
   "execution_count": 4,
   "id": "1bd29db5",
   "metadata": {},
   "outputs": [
    {
     "name": "stdout",
     "output_type": "stream",
     "text": [
      "[1, 4, 9, 16, 25, 36, 49, 64, 81, 100]\n"
     ]
    }
   ],
   "source": [
    "# create a list of the squares from 1 to 100. [ 1, 4, 9, 16, 25, ... 100]\n",
    "squares = [num * num for num in range(1, 11)]\n",
    "print(squares)\n"
   ]
  },
  {
   "cell_type": "code",
   "execution_count": 5,
   "id": "c45b8539",
   "metadata": {},
   "outputs": [
    {
     "name": "stdout",
     "output_type": "stream",
     "text": [
      "[32, 24, 16, 30, 16, 33, 19, 29, 33, 29, 20, 30, 30, 19, 31, 15, 15, 33, 18, 16, 29, 17, 17, 19, 23, 17, 23, 28, 31, 29, 28, 14, 14, 13, 20, 31, 29, 31, 26, 19, 25, 28, 26, 21, 16, 19, 18, 26, 26, 31]\n",
      "[93, 98, 65, 92, 98, 80, 79, 87, 71, 73, 84, 95, 86, 81, 72, 76, 70, 95, 71, 85, 77, 98, 97, 67, 78, 82, 89, 94, 87, 88, 70, 75, 87, 90, 86, 91, 86, 96, 79, 99, 86, 89, 66, 66, 93, 72, 79, 74, 67, 77]\n",
      "['h', 'b', 'm', 'f', 'l', 'f', 'e', 'e', 'i', 'j', 'h', 'i', 'k', 'g', 'a', 'h', 'h', 'g', 'h', 'f', 'm', 'e', 'a', 'k', 'm', 'h', 'k', 'e', 'd', 'h', 'e', 'h', 'd', 'k', 'l', 'h', 'f', 'a', 'b', 'd', 'a', 'c', 'h', 'g', 'h', 'f', 'k', 'l', 'f', 'f']\n"
     ]
    },
    {
     "ename": "ValueError",
     "evalue": "Shape of passed values is (50, 1), indices imply (50, 50)",
     "output_type": "error",
     "traceback": [
      "\u001b[1;31m---------------------------------------------------------------------------\u001b[0m",
      "\u001b[1;31mValueError\u001b[0m                                Traceback (most recent call last)",
      "Cell \u001b[1;32mIn[5], line 18\u001b[0m\n\u001b[0;32m     11\u001b[0m \u001b[38;5;28mprint\u001b[39m(letters)\n\u001b[0;32m     13\u001b[0m \u001b[38;5;66;03m# create a dataframe with 3 columns and 50 rows\u001b[39;00m\n\u001b[0;32m     14\u001b[0m \u001b[38;5;66;03m# letter :  a random letter selected from 'a' to 'm'\u001b[39;00m\n\u001b[0;32m     15\u001b[0m \u001b[38;5;66;03m# num : a random number between 13 - 33 inclusive\u001b[39;00m\n\u001b[0;32m     16\u001b[0m \u001b[38;5;66;03m# score : a random number between 65 - 100 inclusive\u001b[39;00m\n\u001b[1;32m---> 18\u001b[0m df \u001b[38;5;241m=\u001b[39m \u001b[43mpd\u001b[49m\u001b[38;5;241;43m.\u001b[39;49m\u001b[43mDataFrame\u001b[49m\u001b[43m(\u001b[49m\u001b[43mletters\u001b[49m\u001b[43m,\u001b[49m\u001b[43m \u001b[49m\u001b[43mnums\u001b[49m\u001b[43m,\u001b[49m\u001b[43m \u001b[49m\u001b[43mscores\u001b[49m\u001b[43m)\u001b[49m\n\u001b[0;32m     19\u001b[0m \u001b[38;5;28mprint\u001b[39m(df)\n",
      "File \u001b[1;32mc:\\Users\\1115575\\.conda\\envs\\IDP3\\lib\\site-packages\\pandas\\core\\frame.py:798\u001b[0m, in \u001b[0;36mDataFrame.__init__\u001b[1;34m(self, data, index, columns, dtype, copy)\u001b[0m\n\u001b[0;32m    790\u001b[0m         mgr \u001b[38;5;241m=\u001b[39m arrays_to_mgr(\n\u001b[0;32m    791\u001b[0m             arrays,\n\u001b[0;32m    792\u001b[0m             columns,\n\u001b[1;32m   (...)\u001b[0m\n\u001b[0;32m    795\u001b[0m             typ\u001b[38;5;241m=\u001b[39mmanager,\n\u001b[0;32m    796\u001b[0m         )\n\u001b[0;32m    797\u001b[0m     \u001b[38;5;28;01melse\u001b[39;00m:\n\u001b[1;32m--> 798\u001b[0m         mgr \u001b[38;5;241m=\u001b[39m \u001b[43mndarray_to_mgr\u001b[49m\u001b[43m(\u001b[49m\n\u001b[0;32m    799\u001b[0m \u001b[43m            \u001b[49m\u001b[43mdata\u001b[49m\u001b[43m,\u001b[49m\n\u001b[0;32m    800\u001b[0m \u001b[43m            \u001b[49m\u001b[43mindex\u001b[49m\u001b[43m,\u001b[49m\n\u001b[0;32m    801\u001b[0m \u001b[43m            \u001b[49m\u001b[43mcolumns\u001b[49m\u001b[43m,\u001b[49m\n\u001b[0;32m    802\u001b[0m \u001b[43m            \u001b[49m\u001b[43mdtype\u001b[49m\u001b[38;5;241;43m=\u001b[39;49m\u001b[43mdtype\u001b[49m\u001b[43m,\u001b[49m\n\u001b[0;32m    803\u001b[0m \u001b[43m            \u001b[49m\u001b[43mcopy\u001b[49m\u001b[38;5;241;43m=\u001b[39;49m\u001b[43mcopy\u001b[49m\u001b[43m,\u001b[49m\n\u001b[0;32m    804\u001b[0m \u001b[43m            \u001b[49m\u001b[43mtyp\u001b[49m\u001b[38;5;241;43m=\u001b[39;49m\u001b[43mmanager\u001b[49m\u001b[43m,\u001b[49m\n\u001b[0;32m    805\u001b[0m \u001b[43m        \u001b[49m\u001b[43m)\u001b[49m\n\u001b[0;32m    806\u001b[0m \u001b[38;5;28;01melse\u001b[39;00m:\n\u001b[0;32m    807\u001b[0m     mgr \u001b[38;5;241m=\u001b[39m dict_to_mgr(\n\u001b[0;32m    808\u001b[0m         {},\n\u001b[0;32m    809\u001b[0m         index,\n\u001b[1;32m   (...)\u001b[0m\n\u001b[0;32m    812\u001b[0m         typ\u001b[38;5;241m=\u001b[39mmanager,\n\u001b[0;32m    813\u001b[0m     )\n",
      "File \u001b[1;32mc:\\Users\\1115575\\.conda\\envs\\IDP3\\lib\\site-packages\\pandas\\core\\internals\\construction.py:337\u001b[0m, in \u001b[0;36mndarray_to_mgr\u001b[1;34m(values, index, columns, dtype, copy, typ)\u001b[0m\n\u001b[0;32m    332\u001b[0m \u001b[38;5;66;03m# _prep_ndarraylike ensures that values.ndim == 2 at this point\u001b[39;00m\n\u001b[0;32m    333\u001b[0m index, columns \u001b[38;5;241m=\u001b[39m _get_axes(\n\u001b[0;32m    334\u001b[0m     values\u001b[38;5;241m.\u001b[39mshape[\u001b[38;5;241m0\u001b[39m], values\u001b[38;5;241m.\u001b[39mshape[\u001b[38;5;241m1\u001b[39m], index\u001b[38;5;241m=\u001b[39mindex, columns\u001b[38;5;241m=\u001b[39mcolumns\n\u001b[0;32m    335\u001b[0m )\n\u001b[1;32m--> 337\u001b[0m \u001b[43m_check_values_indices_shape_match\u001b[49m\u001b[43m(\u001b[49m\u001b[43mvalues\u001b[49m\u001b[43m,\u001b[49m\u001b[43m \u001b[49m\u001b[43mindex\u001b[49m\u001b[43m,\u001b[49m\u001b[43m \u001b[49m\u001b[43mcolumns\u001b[49m\u001b[43m)\u001b[49m\n\u001b[0;32m    339\u001b[0m \u001b[38;5;28;01mif\u001b[39;00m typ \u001b[38;5;241m==\u001b[39m \u001b[38;5;124m\"\u001b[39m\u001b[38;5;124marray\u001b[39m\u001b[38;5;124m\"\u001b[39m:\n\u001b[0;32m    340\u001b[0m     \u001b[38;5;28;01mif\u001b[39;00m \u001b[38;5;28missubclass\u001b[39m(values\u001b[38;5;241m.\u001b[39mdtype\u001b[38;5;241m.\u001b[39mtype, \u001b[38;5;28mstr\u001b[39m):\n",
      "File \u001b[1;32mc:\\Users\\1115575\\.conda\\envs\\IDP3\\lib\\site-packages\\pandas\\core\\internals\\construction.py:408\u001b[0m, in \u001b[0;36m_check_values_indices_shape_match\u001b[1;34m(values, index, columns)\u001b[0m\n\u001b[0;32m    406\u001b[0m passed \u001b[38;5;241m=\u001b[39m values\u001b[38;5;241m.\u001b[39mshape\n\u001b[0;32m    407\u001b[0m implied \u001b[38;5;241m=\u001b[39m (\u001b[38;5;28mlen\u001b[39m(index), \u001b[38;5;28mlen\u001b[39m(columns))\n\u001b[1;32m--> 408\u001b[0m \u001b[38;5;28;01mraise\u001b[39;00m \u001b[38;5;167;01mValueError\u001b[39;00m(\u001b[38;5;124mf\u001b[39m\u001b[38;5;124m\"\u001b[39m\u001b[38;5;124mShape of passed values is \u001b[39m\u001b[38;5;132;01m{\u001b[39;00mpassed\u001b[38;5;132;01m}\u001b[39;00m\u001b[38;5;124m, indices imply \u001b[39m\u001b[38;5;132;01m{\u001b[39;00mimplied\u001b[38;5;132;01m}\u001b[39;00m\u001b[38;5;124m\"\u001b[39m)\n",
      "\u001b[1;31mValueError\u001b[0m: Shape of passed values is (50, 1), indices imply (50, 50)"
     ]
    }
   ],
   "source": [
    "# use random.randint() to create a list of 50 random numbers from 13-33 inclusive\n",
    "nums = [random.randint(13, 33) for num in range(50)]\n",
    "print(nums)\n",
    "\n",
    "# create a list of 50 random numbers from 65-100 inclusive\n",
    "scores = [random.randint(65, 100) for num in range(50)]\n",
    "print(scores)\n",
    "\n",
    "# # create a list of 50 random letters from 'a' to 'm' inclusive\n",
    "letters = [random.choice('abcdefghijklm') for num in range(50)]\n",
    "print(letters)\n",
    "\n",
    "# create a dataframe with 3 columns and 50 rows\n",
    "# letter :  a random letter selected from 'a' to 'm'\n",
    "# num : a random number between 13 - 33 inclusive\n",
    "# score : a random number between 65 - 100 inclusive\n",
    "data = zip(letters, nums, scores)\n",
    "df = pd.DataFrame(data, columns=['letter', 'num', 'age'])\n",
    "print(df)"
   ]
  },
  {
   "cell_type": "code",
   "execution_count": null,
   "id": "e6167e57",
   "metadata": {},
   "outputs": [],
   "source": [
    "# create a list of letters in the generate dataframe that have a score > 90\n",
    "# use df.loc and range()\n",
    "gt90 = \n",
    "print(gt90)\n",
    "\n",
    "# same thing, but use filters\n",
    "gt90 = \n",
    "print(gt90)\n",
    "\n",
    "# print out a sorted list of unique letters in df that have a score > 90.\n",
    "# Hint: use gt90 and sets\n",
    "un_gt90 = \n",
    "print(un_gt90)\n"
   ]
  },
  {
   "cell_type": "code",
   "execution_count": null,
   "id": "ac9eb145",
   "metadata": {},
   "outputs": [],
   "source": [
    "# find the count of times each letter appears in the df\n",
    "counts = \n",
    "print(counts)\n",
    "\n",
    "# find the count of times each letter has a score above 90\n",
    "counts = \n",
    "print(counts)\n",
    "\n",
    "# print the letter that has a score above 90 the most number of times\n",
    "print('most above 90', )"
   ]
  },
  {
   "cell_type": "code",
   "execution_count": null,
   "id": "6c9c8c49",
   "metadata": {},
   "outputs": [],
   "source": [
    "# create a dataframe with two columns:\n",
    "# letter 'a' - 'm'\n",
    "# state: random from ['WA', 'CA', 'OR', 'NV' ]\n",
    "# using a comprehension, create a list of letters a-m, inclusive\n",
    "letters = \n",
    "# using random.choice, create a list of length 13 that is a random\n",
    "# selection of states in ['WA', 'CA', 'OR', 'NV' ]\n",
    "states =\n",
    "# create a dataframe that has two columns, 'letter' and 'state' using\n",
    "# the two lists created above\n",
    "df2 =\n",
    "\n",
    "\n"
   ]
  },
  {
   "cell_type": "code",
   "execution_count": null,
   "id": "6cd347ce",
   "metadata": {},
   "outputs": [],
   "source": [
    "\n",
    "# join the above DataFrame with this latest dataframe, df2, that has states.\n",
    "# The joined dataframe should have all 50 rows from df.\n",
    "df3 = \n",
    "\n",
    "# display the first 10 rows of the resulting join.\n"
   ]
  },
  {
   "cell_type": "code",
   "execution_count": null,
   "id": "27dd8e30",
   "metadata": {},
   "outputs": [],
   "source": [
    "# display the state that has the greatest number of unique letters.\n",
    "most_unique =\n",
    "print('most unique', most_unique)\n",
    "\n",
    "# display all those unique letters in that state (any order)\n",
    "most_unique_letters = \n",
    "print(most_unique_letters)\n"
   ]
  },
  {
   "cell_type": "code",
   "execution_count": null,
   "id": "22a7ef27",
   "metadata": {},
   "outputs": [],
   "source": [
    "# for each of these letters, get the highest score they have\n",
    "# then, display the letters in order from highest to lowest.\n",
    "# display this as a Series where the index is the letter, and the score is the value.\n"
   ]
  },
  {
   "cell_type": "code",
   "execution_count": null,
   "id": "bd569f0d",
   "metadata": {},
   "outputs": [],
   "source": []
  }
 ],
 "metadata": {
  "kernelspec": {
   "display_name": "Python 3 (ipykernel)",
   "language": "python",
   "name": "python3"
  },
  "language_info": {
   "codemirror_mode": {
    "name": "ipython",
    "version": 3
   },
   "file_extension": ".py",
   "mimetype": "text/x-python",
   "name": "python",
   "nbconvert_exporter": "python",
   "pygments_lexer": "ipython3",
   "version": "3.8.19"
  }
 },
 "nbformat": 4,
 "nbformat_minor": 5
}
