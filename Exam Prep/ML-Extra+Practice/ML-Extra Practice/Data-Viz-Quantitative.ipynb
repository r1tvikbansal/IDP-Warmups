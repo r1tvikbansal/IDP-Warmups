{
 "cells": [
  {
   "cell_type": "markdown",
   "metadata": {},
   "source": [
    "# Data Viz with Quantitative data"
   ]
  },
  {
   "cell_type": "code",
   "execution_count": null,
   "metadata": {
    "tags": []
   },
   "outputs": [],
   "source": [
    "# Make sure to run this cell first to import the datasets!\n",
    "\n",
    "import pandas as pd\n",
    "import seaborn as sns\n",
    "import matplotlib.pyplot as plt\n",
    "\n",
    "sns.set() # Important for Seaborn!\n",
    "\n",
    "cars = pd.read_csv('cars.csv')\n",
    "\n",
    "# only for Jupyter\n",
    "%matplotlib inline"
   ]
  },
  {
   "cell_type": "markdown",
   "metadata": {},
   "source": [
    "The `cars` dataset is a dataset with a bunch of different models of car, with several different statistics about each of them, including their horsepower, acceleration, etc., the year they were released, and their country of origin. Here's what it looks like:"
   ]
  },
  {
   "cell_type": "code",
   "execution_count": null,
   "metadata": {},
   "outputs": [],
   "source": [
    "cars.head()"
   ]
  },
  {
   "cell_type": "markdown",
   "metadata": {},
   "source": [
    "As a side note, you should use `plt.show()` instead of `plt.savefig` in Jupyter, which will show the plot instead of saving it to a file."
   ]
  },
  {
   "cell_type": "code",
   "execution_count": null,
   "metadata": {},
   "outputs": [],
   "source": [
    "sns.regplot(x='Displacement', y='Horsepower', data=cars)\n",
    "plt.show()"
   ]
  },
  {
   "cell_type": "markdown",
   "metadata": {},
   "source": [
    "## Problem 1) Scatterplot"
   ]
  },
  {
   "cell_type": "markdown",
   "metadata": {},
   "source": [
    "Create a scatterplot using `seaborn` and the `cars` dataset that plots `Horsepower` on the x-axis and `Miles_per_Gallon` on the y-axis. The points should be colored by the country of origin. The x-axis title should be `Horsepower` and the y-axis label should be `Miles per Gallon`. The plot should be titled 'Horsepower vs. Miles per Gallon'.  \n",
    "Your plot should look like this:  \n",
    "  \n",
    "![plot](ml_dataviz_img/hp_vs_mpg.png)"
   ]
  },
  {
   "cell_type": "code",
   "execution_count": null,
   "metadata": {},
   "outputs": [],
   "source": [
    "# Enter your solution here!\n"
   ]
  },
  {
   "cell_type": "markdown",
   "metadata": {},
   "source": [
    "## Problem 2) Distribution"
   ]
  },
  {
   "cell_type": "markdown",
   "metadata": {},
   "source": [
    "Plot a distribution of the horsepower of the `cars` dataset. the x-axis should be labeled 'Horsepower', and the plot should be titled 'Distribution of Horsepower'. Your plot should look like this:  \n",
    "  \n",
    "![plot](ml_dataviz_img/hp_dist.png)"
   ]
  },
  {
   "cell_type": "code",
   "execution_count": null,
   "metadata": {},
   "outputs": [],
   "source": [
    "# Enter your solution here!"
   ]
  },
  {
   "cell_type": "markdown",
   "metadata": {},
   "source": [
    "## Problem 3) Bivariate Data"
   ]
  },
  {
   "cell_type": "markdown",
   "metadata": {},
   "source": [
    "Plot a *bivariate distribution* - two categorical variable distributions plotted against each other - of miles per gallon on the y-axis and horsepower on the x-axis. Compare this to the corresponding scatterplot - what do you see?  \n",
    "  \n",
    "You will need to use the `data2` optional variable of `kdeplot`, and you will need to use `dropna`. Your plot should look like this:  \n",
    "  \n",
    "![plot](ml_dataviz_img/hp_vs_mpg_dist.png)"
   ]
  },
  {
   "cell_type": "code",
   "execution_count": null,
   "metadata": {},
   "outputs": [],
   "source": [
    "# Enter your solution here!\n"
   ]
  },
  {
   "cell_type": "markdown",
   "metadata": {},
   "source": [
    "## Problem 4) Regression Plot"
   ]
  },
  {
   "cell_type": "markdown",
   "metadata": {},
   "source": [
    "Plot a linear regression, with acceleration on the x-axis and weight on the y-axis. There should be a linear regression line. The x-axis should have a label of 'Acceleration', and the y-axis should have a label of 'Weight (lbs)'. The plot should be titled 'Regression of Acceleration vs. Weight (lbs)'. Also, for an added bit of fun, set the 'marker' to be '*' and the color to be 'r'.  \n",
    "  \n",
    "![plot](ml_dataviz_img/acc_vs_lbs_reg.png)"
   ]
  },
  {
   "cell_type": "code",
   "execution_count": null,
   "metadata": {},
   "outputs": [],
   "source": [
    "# Enter your solution here\n"
   ]
  },
  {
   "cell_type": "markdown",
   "metadata": {},
   "source": [
    "## Problem 5) Joint hexplot and binned histograms"
   ]
  },
  {
   "cell_type": "markdown",
   "metadata": {},
   "source": [
    "Plot a hexplot of horsepower on the x-axis and weight on the y-axis, so that there are distributions show of horsepower and weight on the x and y axes (See the documentation of jointplot on the seaborn website). Instead of titleing the y label, try and rename the `DataFrame` column to something else. What happens if you use `plt.ylabel` on this type of chart? What happens if you try and add a title? Use magenta as the color. Your plot should look like this:  \n",
    "  \n",
    "![plot](ml_dataviz_img/lbs_vs_hp_joint.png)"
   ]
  },
  {
   "cell_type": "code",
   "execution_count": null,
   "metadata": {},
   "outputs": [],
   "source": []
  }
 ],
 "metadata": {
  "kernelspec": {
   "display_name": "Python 3 (ipykernel)",
   "language": "python",
   "name": "python3"
  },
  "language_info": {
   "codemirror_mode": {
    "name": "ipython",
    "version": 3
   },
   "file_extension": ".py",
   "mimetype": "text/x-python",
   "name": "python",
   "nbconvert_exporter": "python",
   "pygments_lexer": "ipython3",
   "version": "3.9.7"
  }
 },
 "nbformat": 4,
 "nbformat_minor": 4
}
