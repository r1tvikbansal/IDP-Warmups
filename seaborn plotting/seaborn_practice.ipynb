{
 "cells": [
  {
   "cell_type": "markdown",
   "metadata": {},
   "source": [
    "# Seaborn Practice\n",
    "\n",
    "## Directions\n",
    "\n",
    "In this problem, we will work with a dataset tracking the Old Faithful geyser eruptions \n",
    "at Yellowstone park. This type of dataset is very useful for rangers trying to predict \n",
    "the time of the next eruption. \n",
    "\n",
    "The dataset is quite simple in its schema, with only three columns:\n",
    "\n",
    "  1) duration is the duration of the eruption (in seconds)\n",
    "  2) waiting is the wait time between eruptions (in minutes)\n",
    "  3) kind is whether this event was classified as a long or short wait between eruptions\n",
    "\n",
    "The dataset is stored in geyser.csv. We want you to recreate the plot as seen in \n",
    "'eruptions_expected.png'.\n",
    "\n",
    "![eruptions_expected.png](eruptions_expected.png)\n",
    "\n",
    "Use the dataset described above with the waiting time on the x-axis and the duration on the y-axis.\n",
    "\n",
    "For this problem, you can leave the axis labels with their default values and you don't \n",
    "need to title this graph. It turns out this particular type of plot is difficult to \n",
    "customize with matplotlib."
   ]
  },
  {
   "cell_type": "code",
   "execution_count": 1,
   "metadata": {},
   "outputs": [],
   "source": [
    "import matplotlib.pyplot as plt\n",
    "import pandas as pd\n",
    "import seaborn as sns\n",
    "\n",
    "sns.set_theme()\n",
    "\n",
    "# Implement your plot here "
   ]
  }
 ],
 "metadata": {
  "kernelspec": {
   "display_name": "idp",
   "language": "python",
   "name": "python3"
  },
  "language_info": {
   "codemirror_mode": {
    "name": "ipython",
    "version": 3
   },
   "file_extension": ".py",
   "mimetype": "text/x-python",
   "name": "python",
   "nbconvert_exporter": "python",
   "pygments_lexer": "ipython3",
   "version": "3.8.19"
  }
 },
 "nbformat": 4,
 "nbformat_minor": 2
}
