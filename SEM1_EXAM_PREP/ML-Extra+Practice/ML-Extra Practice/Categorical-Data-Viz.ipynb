{
 "cells": [
  {
   "cell_type": "markdown",
   "metadata": {},
   "source": [
    "# Data Viz with Categorical Data"
   ]
  },
  {
   "cell_type": "code",
   "execution_count": null,
   "metadata": {
    "tags": []
   },
   "outputs": [],
   "source": [
    "import pandas as pd\n",
    "import seaborn as sns\n",
    "import matplotlib.pyplot as plt\n",
    "\n",
    "sns.set()\n",
    "\n",
    "cars = pd.read_csv('cars.csv')\n",
    "barley = pd.read_csv('barley.csv')\n",
    "\n",
    "# only for Jupyter\n",
    "%matplotlib inline"
   ]
  },
  {
   "cell_type": "markdown",
   "metadata": {},
   "source": [
    "For this section, we will be using both the `barley` dataset and the `cars` dataset. You will get some experience setting up ML for categorical data, and see a few more types of plots you can do with categorical data, and some you can do to combine quantitative and categorical data."
   ]
  },
  {
   "cell_type": "markdown",
   "metadata": {},
   "source": [
    "The `cars` dataset is a dataset with a bunch of different models of car, with several different statistics about each of them, including their horsepower, acceleration, etc., the year they were released, and their country of origin. Here's what it looks like:"
   ]
  },
  {
   "cell_type": "code",
   "execution_count": null,
   "metadata": {},
   "outputs": [],
   "source": [
    "cars.head()"
   ]
  },
  {
   "cell_type": "markdown",
   "metadata": {},
   "source": [
    "You may have seen the `barley` dataset before - it's a bunch of measurements of barley yields at several different sites and over multiple years."
   ]
  },
  {
   "cell_type": "code",
   "execution_count": null,
   "metadata": {},
   "outputs": [],
   "source": [
    "barley.head()"
   ]
  },
  {
   "cell_type": "markdown",
   "metadata": {},
   "source": [
    "## Problem 1) Bar Chart"
   ]
  },
  {
   "cell_type": "markdown",
   "metadata": {},
   "source": [
    "Plot a bar chart of the origin in the `cars` dataset. Remember to use the right function in `seaborn` - don't use `barplot` yet, it won't work quite right. Remember to add a descriptive axis labels and a title to your plot. Your plot should look like this:  \n",
    "  \n",
    "![plot](ml_dataviz_img/origin_bar.png)"
   ]
  },
  {
   "cell_type": "code",
   "execution_count": null,
   "metadata": {},
   "outputs": [],
   "source": [
    "# Enter your solution here!\n"
   ]
  },
  {
   "cell_type": "markdown",
   "metadata": {},
   "source": [
    "## Problem 2) Combined Categorical with Quantitative Plot"
   ]
  },
  {
   "cell_type": "markdown",
   "metadata": {},
   "source": [
    "Plot a categorical chart of the `barley` dataset with the 'site' along the x-axis, the yield along the y-axis, and the color according to the variety of barley. There are two variants of this graph you can try out - the first if you just plot it, and the second if you did the extra practice with `groupby`, try and group according to the variety and the site at once, and reset the index. Here are a couple plots you could come up with:  \n",
    "  \n",
    "![plot](ml_dataviz_img/yield_vs_site_overall.png) ![plot](ml_dataviz_img/yield_vs_site_mean.png)"
   ]
  },
  {
   "cell_type": "code",
   "execution_count": null,
   "metadata": {},
   "outputs": [],
   "source": [
    "# Enter your solution here!\n"
   ]
  },
  {
   "cell_type": "markdown",
   "metadata": {},
   "source": [
    "## Just for Kicks: Barley Heatmap"
   ]
  },
  {
   "cell_type": "markdown",
   "metadata": {},
   "source": [
    "`seaborn` has a `heatmap` function which produces some entertaining results. It takes two Categorical or Ordinal variables and plots them against each other, with the color of the corresponding box correlated to a third, quantitative, variable. To get data for this, we will have to `groupby` the `barley` dataset, then use `barley.pivot` to change the index and columns of the `DataFrame`. See if you can figure out what it does based on the `groupby` statement and the result. Take a look at the `pivot` [documentation](https://pandas.pydata.org/pandas-docs/stable/reference/api/pandas.DataFrame.pivot.html) if this interests you."
   ]
  },
  {
   "cell_type": "code",
   "execution_count": null,
   "metadata": {},
   "outputs": [],
   "source": [
    "barley_pivot = barley.loc[:, ['year', 'site', 'yield']]\n",
    "barley_pivot = barley_pivot.groupby(['year', 'site']).sum()\n",
    "barley_pivot = barley_pivot.reset_index()\n",
    "barley_pivot['yield'] = barley_pivot['yield'].astype(int)\n",
    "barley_pivot = barley_pivot.pivot('year', 'site', 'yield')\n",
    "barley_pivot"
   ]
  },
  {
   "cell_type": "markdown",
   "metadata": {},
   "source": [
    "Now, we can create our heatmap. See from `barley_pivot` that it isn't really doing anything special, as it closely follows the `DataFrame`. Notice that we can very clearly see which years and sites did well overall - the same point could have been shown with a different plot, but this is still interesting to see."
   ]
  },
  {
   "cell_type": "code",
   "execution_count": null,
   "metadata": {},
   "outputs": [],
   "source": [
    "sns.heatmap(barley_pivot, annot=True, fmt='d')\n",
    "plt.ylabel('Year')\n",
    "plt.xlabel('Site')\n",
    "plt.xticks(rotation=45)\n",
    "plt.show()"
   ]
  }
 ],
 "metadata": {
  "kernelspec": {
   "display_name": "Python 3",
   "language": "python",
   "name": "python3"
  },
  "language_info": {
   "codemirror_mode": {
    "name": "ipython",
    "version": 3
   },
   "file_extension": ".py",
   "mimetype": "text/x-python",
   "name": "python",
   "nbconvert_exporter": "python",
   "pygments_lexer": "ipython3",
   "version": "3.8.3"
  }
 },
 "nbformat": 4,
 "nbformat_minor": 4
}
