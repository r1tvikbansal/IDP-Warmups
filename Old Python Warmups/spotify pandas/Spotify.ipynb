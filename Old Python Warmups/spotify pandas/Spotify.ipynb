{
 "cells": [
  {
   "cell_type": "code",
   "execution_count": 1,
   "metadata": {},
   "outputs": [],
   "source": [
    "import pandas as pd"
   ]
  },
  {
   "cell_type": "code",
   "execution_count": 3,
   "metadata": {},
   "outputs": [
    {
     "data": {
      "text/html": [
       "<div>\n",
       "<style scoped>\n",
       "    .dataframe tbody tr th:only-of-type {\n",
       "        vertical-align: middle;\n",
       "    }\n",
       "\n",
       "    .dataframe tbody tr th {\n",
       "        vertical-align: top;\n",
       "    }\n",
       "\n",
       "    .dataframe thead th {\n",
       "        text-align: right;\n",
       "    }\n",
       "</style>\n",
       "<table border=\"1\" class=\"dataframe\">\n",
       "  <thead>\n",
       "    <tr style=\"text-align: right;\">\n",
       "      <th></th>\n",
       "      <th>Songs &amp; Artist</th>\n",
       "      <th>Streams</th>\n",
       "      <th>Daily</th>\n",
       "    </tr>\n",
       "  </thead>\n",
       "  <tbody>\n",
       "    <tr>\n",
       "      <th>0</th>\n",
       "      <td>The Weeknd - Blinding Lights</td>\n",
       "      <td>4463658617</td>\n",
       "      <td>1619447.0</td>\n",
       "    </tr>\n",
       "    <tr>\n",
       "      <th>1</th>\n",
       "      <td>Ed Sheeran - Shape of You</td>\n",
       "      <td>4018102402</td>\n",
       "      <td>1001507.0</td>\n",
       "    </tr>\n",
       "    <tr>\n",
       "      <th>2</th>\n",
       "      <td>Lewis Capaldi - Someone You Loved</td>\n",
       "      <td>3588673578</td>\n",
       "      <td>1506961.0</td>\n",
       "    </tr>\n",
       "    <tr>\n",
       "      <th>3</th>\n",
       "      <td>Harry Styles - As It Was</td>\n",
       "      <td>3544187311</td>\n",
       "      <td>1611374.0</td>\n",
       "    </tr>\n",
       "    <tr>\n",
       "      <th>4</th>\n",
       "      <td>Post Malone - Sunflower</td>\n",
       "      <td>3518744128</td>\n",
       "      <td>1337404.0</td>\n",
       "    </tr>\n",
       "    <tr>\n",
       "      <th>...</th>\n",
       "      <td>...</td>\n",
       "      <td>...</td>\n",
       "      <td>...</td>\n",
       "    </tr>\n",
       "    <tr>\n",
       "      <th>2495</th>\n",
       "      <td>Myke Towers - LA FALDA</td>\n",
       "      <td>505592800</td>\n",
       "      <td>1278450.0</td>\n",
       "    </tr>\n",
       "    <tr>\n",
       "      <th>2496</th>\n",
       "      <td>Social House - Magic In The Hamptons</td>\n",
       "      <td>505511969</td>\n",
       "      <td>118483.0</td>\n",
       "    </tr>\n",
       "    <tr>\n",
       "      <th>2497</th>\n",
       "      <td>KISS - Rock And Roll All Nite</td>\n",
       "      <td>505386377</td>\n",
       "      <td>205701.0</td>\n",
       "    </tr>\n",
       "    <tr>\n",
       "      <th>2498</th>\n",
       "      <td>Mora - 512</td>\n",
       "      <td>505309100</td>\n",
       "      <td>280336.0</td>\n",
       "    </tr>\n",
       "    <tr>\n",
       "      <th>2499</th>\n",
       "      <td>Meghan Trainor - Me Too</td>\n",
       "      <td>505249124</td>\n",
       "      <td>288515.0</td>\n",
       "    </tr>\n",
       "  </tbody>\n",
       "</table>\n",
       "<p>2500 rows × 3 columns</p>\n",
       "</div>"
      ],
      "text/plain": [
       "                            Songs & Artist     Streams      Daily\n",
       "0             The Weeknd - Blinding Lights  4463658617  1619447.0\n",
       "1                Ed Sheeran - Shape of You  4018102402  1001507.0\n",
       "2        Lewis Capaldi - Someone You Loved  3588673578  1506961.0\n",
       "3                 Harry Styles - As It Was  3544187311  1611374.0\n",
       "4                  Post Malone - Sunflower  3518744128  1337404.0\n",
       "...                                    ...         ...        ...\n",
       "2495                Myke Towers - LA FALDA   505592800  1278450.0\n",
       "2496  Social House - Magic In The Hamptons   505511969   118483.0\n",
       "2497         KISS - Rock And Roll All Nite   505386377   205701.0\n",
       "2498                            Mora - 512   505309100   280336.0\n",
       "2499               Meghan Trainor - Me Too   505249124   288515.0\n",
       "\n",
       "[2500 rows x 3 columns]"
      ]
     },
     "execution_count": 3,
     "metadata": {},
     "output_type": "execute_result"
    }
   ],
   "source": [
    "df = pd.read_csv('spotify_data.csv')\n",
    "df"
   ]
  },
  {
   "cell_type": "code",
   "execution_count": 4,
   "metadata": {},
   "outputs": [
    {
     "name": "stdout",
     "output_type": "stream",
     "text": [
      "<class 'pandas.core.frame.DataFrame'>\n",
      "RangeIndex: 2500 entries, 0 to 2499\n",
      "Data columns (total 3 columns):\n",
      " #   Column          Non-Null Count  Dtype  \n",
      "---  ------          --------------  -----  \n",
      " 0   Songs & Artist  2500 non-null   object \n",
      " 1   Streams         2500 non-null   int64  \n",
      " 2   Daily           2498 non-null   float64\n",
      "dtypes: float64(1), int64(1), object(1)\n",
      "memory usage: 58.7+ KB\n"
     ]
    }
   ],
   "source": [
    "df.info()"
   ]
  },
  {
   "cell_type": "code",
   "execution_count": 6,
   "metadata": {},
   "outputs": [
    {
     "data": {
      "text/html": [
       "<div>\n",
       "<style scoped>\n",
       "    .dataframe tbody tr th:only-of-type {\n",
       "        vertical-align: middle;\n",
       "    }\n",
       "\n",
       "    .dataframe tbody tr th {\n",
       "        vertical-align: top;\n",
       "    }\n",
       "\n",
       "    .dataframe thead th {\n",
       "        text-align: right;\n",
       "    }\n",
       "</style>\n",
       "<table border=\"1\" class=\"dataframe\">\n",
       "  <thead>\n",
       "    <tr style=\"text-align: right;\">\n",
       "      <th></th>\n",
       "      <th>Streams</th>\n",
       "      <th>Daily</th>\n",
       "    </tr>\n",
       "  </thead>\n",
       "  <tbody>\n",
       "    <tr>\n",
       "      <th>count</th>\n",
       "      <td>2.500000e+03</td>\n",
       "      <td>2.498000e+03</td>\n",
       "    </tr>\n",
       "    <tr>\n",
       "      <th>mean</th>\n",
       "      <td>9.381437e+08</td>\n",
       "      <td>5.044663e+05</td>\n",
       "    </tr>\n",
       "    <tr>\n",
       "      <th>std</th>\n",
       "      <td>4.788772e+08</td>\n",
       "      <td>4.963328e+05</td>\n",
       "    </tr>\n",
       "    <tr>\n",
       "      <th>min</th>\n",
       "      <td>5.052491e+08</td>\n",
       "      <td>7.523000e+03</td>\n",
       "    </tr>\n",
       "    <tr>\n",
       "      <th>25%</th>\n",
       "      <td>6.099077e+08</td>\n",
       "      <td>2.245135e+05</td>\n",
       "    </tr>\n",
       "    <tr>\n",
       "      <th>50%</th>\n",
       "      <td>7.628053e+08</td>\n",
       "      <td>3.763570e+05</td>\n",
       "    </tr>\n",
       "    <tr>\n",
       "      <th>75%</th>\n",
       "      <td>1.096878e+09</td>\n",
       "      <td>6.318060e+05</td>\n",
       "    </tr>\n",
       "    <tr>\n",
       "      <th>max</th>\n",
       "      <td>4.463659e+09</td>\n",
       "      <td>7.553534e+06</td>\n",
       "    </tr>\n",
       "  </tbody>\n",
       "</table>\n",
       "</div>"
      ],
      "text/plain": [
       "            Streams         Daily\n",
       "count  2.500000e+03  2.498000e+03\n",
       "mean   9.381437e+08  5.044663e+05\n",
       "std    4.788772e+08  4.963328e+05\n",
       "min    5.052491e+08  7.523000e+03\n",
       "25%    6.099077e+08  2.245135e+05\n",
       "50%    7.628053e+08  3.763570e+05\n",
       "75%    1.096878e+09  6.318060e+05\n",
       "max    4.463659e+09  7.553534e+06"
      ]
     },
     "execution_count": 6,
     "metadata": {},
     "output_type": "execute_result"
    }
   ],
   "source": [
    "df.describe()"
   ]
  },
  {
   "cell_type": "code",
   "execution_count": 17,
   "metadata": {},
   "outputs": [
    {
     "data": {
      "text/plain": [
       "0"
      ]
     },
     "execution_count": 17,
     "metadata": {},
     "output_type": "execute_result"
    }
   ],
   "source": [
    "higheststreamindex = df['Streams'].idxmax()\n",
    "higheststreamindex"
   ]
  },
  {
   "cell_type": "code",
   "execution_count": 18,
   "metadata": {},
   "outputs": [
    {
     "data": {
      "text/plain": [
       "1911"
      ]
     },
     "execution_count": 18,
     "metadata": {},
     "output_type": "execute_result"
    }
   ],
   "source": [
    "highestdailyindex = df['Daily'].idxmax()\n",
    "highestdailyindex"
   ]
  },
  {
   "cell_type": "code",
   "execution_count": 26,
   "metadata": {},
   "outputs": [
    {
     "name": "stdout",
     "output_type": "stream",
     "text": [
      "The highest daily streamed song is Jimin - Who and the highest streamed song is The Weeknd - Blinding Lights\n"
     ]
    }
   ],
   "source": [
    "daily = df.loc[highestdailyindex,'Songs & Artist']\n",
    "streamed = df.loc[higheststreamindex,'Songs & Artist']\n",
    "print('The highest daily streamed song is', daily, 'and the highest streamed song is', streamed)"
   ]
  },
  {
   "cell_type": "code",
   "execution_count": 33,
   "metadata": {},
   "outputs": [
    {
     "data": {
      "text/html": [
       "<div>\n",
       "<style scoped>\n",
       "    .dataframe tbody tr th:only-of-type {\n",
       "        vertical-align: middle;\n",
       "    }\n",
       "\n",
       "    .dataframe tbody tr th {\n",
       "        vertical-align: top;\n",
       "    }\n",
       "\n",
       "    .dataframe thead th {\n",
       "        text-align: right;\n",
       "    }\n",
       "</style>\n",
       "<table border=\"1\" class=\"dataframe\">\n",
       "  <thead>\n",
       "    <tr style=\"text-align: right;\">\n",
       "      <th></th>\n",
       "      <th>Songs &amp; Artist</th>\n",
       "      <th>Streams</th>\n",
       "      <th>Daily</th>\n",
       "    </tr>\n",
       "  </thead>\n",
       "  <tbody>\n",
       "    <tr>\n",
       "      <th>35</th>\n",
       "      <td>Travis Scott - goosebumps</td>\n",
       "      <td>2527338922</td>\n",
       "      <td>1110097.0</td>\n",
       "    </tr>\n",
       "    <tr>\n",
       "      <th>68</th>\n",
       "      <td>Travis Scott - SICKO MODE</td>\n",
       "      <td>2205803195</td>\n",
       "      <td>622901.0</td>\n",
       "    </tr>\n",
       "    <tr>\n",
       "      <th>180</th>\n",
       "      <td>Travis Scott - HIGHEST IN THE ROOM</td>\n",
       "      <td>1748280768</td>\n",
       "      <td>1364955.0</td>\n",
       "    </tr>\n",
       "    <tr>\n",
       "      <th>293</th>\n",
       "      <td>Travis Scott - BUTTERFLY EFFECT</td>\n",
       "      <td>1499161291</td>\n",
       "      <td>772987.0</td>\n",
       "    </tr>\n",
       "    <tr>\n",
       "      <th>954</th>\n",
       "      <td>Travis Scott - FE!N</td>\n",
       "      <td>890317128</td>\n",
       "      <td>2409613.0</td>\n",
       "    </tr>\n",
       "    <tr>\n",
       "      <th>1167</th>\n",
       "      <td>Travis Scott - Goosebumps</td>\n",
       "      <td>792357980</td>\n",
       "      <td>187912.0</td>\n",
       "    </tr>\n",
       "    <tr>\n",
       "      <th>1243</th>\n",
       "      <td>Travis Scott - STARGAZING</td>\n",
       "      <td>765480499</td>\n",
       "      <td>211188.0</td>\n",
       "    </tr>\n",
       "    <tr>\n",
       "      <th>1416</th>\n",
       "      <td>Travis Scott - Antidote</td>\n",
       "      <td>714493982</td>\n",
       "      <td>179161.0</td>\n",
       "    </tr>\n",
       "    <tr>\n",
       "      <th>1586</th>\n",
       "      <td>Travis Scott - YOSEMITE</td>\n",
       "      <td>666646540</td>\n",
       "      <td>164027.0</td>\n",
       "    </tr>\n",
       "    <tr>\n",
       "      <th>1615</th>\n",
       "      <td>Travis Scott - CAN'T SAY</td>\n",
       "      <td>660118514</td>\n",
       "      <td>618653.0</td>\n",
       "    </tr>\n",
       "    <tr>\n",
       "      <th>1742</th>\n",
       "      <td>Travis Scott - I KNOW ?</td>\n",
       "      <td>632659790</td>\n",
       "      <td>789277.0</td>\n",
       "    </tr>\n",
       "    <tr>\n",
       "      <th>1892</th>\n",
       "      <td>Travis Scott - 90210</td>\n",
       "      <td>607342264</td>\n",
       "      <td>387835.0</td>\n",
       "    </tr>\n",
       "    <tr>\n",
       "      <th>2243</th>\n",
       "      <td>Travis Scott - 5% TINT</td>\n",
       "      <td>543726896</td>\n",
       "      <td>258478.0</td>\n",
       "    </tr>\n",
       "  </tbody>\n",
       "</table>\n",
       "</div>"
      ],
      "text/plain": [
       "                          Songs & Artist     Streams      Daily\n",
       "35             Travis Scott - goosebumps  2527338922  1110097.0\n",
       "68             Travis Scott - SICKO MODE  2205803195   622901.0\n",
       "180   Travis Scott - HIGHEST IN THE ROOM  1748280768  1364955.0\n",
       "293      Travis Scott - BUTTERFLY EFFECT  1499161291   772987.0\n",
       "954                  Travis Scott - FE!N   890317128  2409613.0\n",
       "1167           Travis Scott - Goosebumps   792357980   187912.0\n",
       "1243           Travis Scott - STARGAZING   765480499   211188.0\n",
       "1416             Travis Scott - Antidote   714493982   179161.0\n",
       "1586             Travis Scott - YOSEMITE   666646540   164027.0\n",
       "1615            Travis Scott - CAN'T SAY   660118514   618653.0\n",
       "1742             Travis Scott - I KNOW ?   632659790   789277.0\n",
       "1892                Travis Scott - 90210   607342264   387835.0\n",
       "2243              Travis Scott - 5% TINT   543726896   258478.0"
      ]
     },
     "execution_count": 33,
     "metadata": {},
     "output_type": "execute_result"
    }
   ],
   "source": [
    "travissongs = df[df['Songs & Artist'].str.contains(\"Travis Scott\")]\n",
    "travissongs"
   ]
  },
  {
   "cell_type": "code",
   "execution_count": 36,
   "metadata": {},
   "outputs": [
    {
     "name": "stdout",
     "output_type": "stream",
     "text": [
      "Travis Scott songs: 13\n",
      "Taylor Swift songs: 42\n"
     ]
    }
   ],
   "source": [
    "def findHowMany(data, artist):\n",
    "    df = data[data['Songs & Artist'].str.contains(artist)]\n",
    "    return len(df)\n",
    "\n",
    "\n",
    "print('Travis Scott songs:', findHowMany(df, \"Travis Scott\"))\n",
    "print('Taylor Swift songs:', findHowMany(df, \"Taylor Swift\"))"
   ]
  }
 ],
 "metadata": {
  "kernelspec": {
   "display_name": "IDP3",
   "language": "python",
   "name": "python3"
  },
  "language_info": {
   "codemirror_mode": {
    "name": "ipython",
    "version": 3
   },
   "file_extension": ".py",
   "mimetype": "text/x-python",
   "name": "python",
   "nbconvert_exporter": "python",
   "pygments_lexer": "ipython3",
   "version": "3.8.19"
  }
 },
 "nbformat": 4,
 "nbformat_minor": 2
}
