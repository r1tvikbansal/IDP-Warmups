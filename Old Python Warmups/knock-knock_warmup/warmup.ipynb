{
 "cells": [
  {
   "cell_type": "code",
   "execution_count": 25,
   "metadata": {},
   "outputs": [
    {
     "data": {
      "text/plain": [
       "col1\n",
       "1    yes yes\n",
       "2     yes no\n",
       "3      no no\n",
       "Name: col3, dtype: object"
      ]
     },
     "execution_count": 25,
     "metadata": {},
     "output_type": "execute_result"
    }
   ],
   "source": [
    "import pandas as pd\n",
    "''' \n",
    "You are trying to get the following output\n",
    "1     Knock Knock\n",
    "2     Who's there?\n",
    "3     Panda Bear\n",
    "'''\n",
    "d = {'col1': [1, 1, 2, 2, 3, 3], \n",
    "     'col2': ['Knock', 'Knock', \"Who's\", 'there?',  'Panda', 'Bear'],\n",
    "     'col3': ['yes', 'yes', \"yes\", 'no',  'no', 'no']}\n",
    "\n",
    "df = pd.DataFrame(data=d)\n",
    "df.groupby('col1')['col3'].apply(' '.join)"
   ]
  }
 ],
 "metadata": {
  "kernelspec": {
   "display_name": "IDP3",
   "language": "python",
   "name": "python3"
  },
  "language_info": {
   "codemirror_mode": {
    "name": "ipython",
    "version": 3
   },
   "file_extension": ".py",
   "mimetype": "text/x-python",
   "name": "python",
   "nbconvert_exporter": "python",
   "pygments_lexer": "ipython3",
   "version": "3.8.19"
  }
 },
 "nbformat": 4,
 "nbformat_minor": 2
}
