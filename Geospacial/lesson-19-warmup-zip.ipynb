{
 "cells": [
  {
   "cell_type": "markdown",
   "metadata": {},
   "source": [
    "# Warm-Up 1\n",
    "## Understanding and Using `zip` in Python\n",
    "---\n",
    "\n",
    "Task: Create a function that takes two lists, `coordinates` and `values`,\n",
    "of the same length. To merge them into a list of tuples, use `zip`. Each \n",
    "tuple includes a coordinate and its associated value.\n",
    "Iterating through the combined list and printing each \n",
    "coordinate along with its value is your duty.\n",
    "\n",
    "## Hints: \n",
    "\n",
    "1. Combine the two lists using the `zip()` method.\n",
    "2. Keep in mind that `zip` generates an iterator; use a list if you \n",
    "  need to reuse the data.\n",
    "3. Iterate through the generated zipped list using a `for` loop."
   ]
  },
  {
   "cell_type": "code",
   "execution_count": 3,
   "metadata": {},
   "outputs": [
    {
     "name": "stdout",
     "output_type": "stream",
     "text": [
      "Coordinate: (47.6097, -122.3331) Value: 100\n",
      "Coordinate: (34.0522, -118.2437) Value: 200\n",
      "Coordinate: (40.7128, -74.006) Value: 300\n"
     ]
    }
   ],
   "source": [
    "\n",
    "def combine_coordinates_and_values(coordinates, values):\n",
    "    \"\"\"\n",
    "    Combine coordinates and values into a list of tuples and print each pair.\n",
    "\n",
    "    Parameters:\n",
    "    - coordinates (list): A list of geographic coordinates \n",
    "        (e.g., [(lat1, lon1), (lat2, lon2)]).\n",
    "    - values (list): A list of values corresponding to each coordinate.\n",
    "\n",
    "    Returns:\n",
    "    None (The function will print output.)\n",
    "    \"\"\"\n",
    "    for coordin, val in zip(coordinates, values):\n",
    "        print(f\"Coordinate:${coordin}, Value: ${val}\")\n",
    "\n",
    "\n",
    "if __name__ == \"__main__\":\n",
    "    # Sample Input:\n",
    "    coordinates = [(47.6097, -122.3331), (34.0522, -118.2437),\n",
    "                   (40.7128, -74.0060)]\n",
    "    values = [100, 200, 300]\n",
    "    # Expected Output:\n",
    "    # Coordinate: (47.6097, -122.3331), Value: 100\n",
    "    # Coordinate: (34.0522, -118.2437), Value: 200\n",
    "    # Coordinate: (40.7128, -74.0060), Value: 300\n",
    "    combine_coordinates_and_values(coordinates, values)\n"
   ]
  }
 ],
 "metadata": {
  "kernelspec": {
   "display_name": "IDP3",
   "language": "python",
   "name": "python3"
  },
  "language_info": {
   "codemirror_mode": {
    "name": "ipython",
    "version": 3
   },
   "file_extension": ".py",
   "mimetype": "text/x-python",
   "name": "python",
   "nbconvert_exporter": "python",
   "pygments_lexer": "ipython3",
   "version": "3.8.19"
  }
 },
 "nbformat": 4,
 "nbformat_minor": 2
}
