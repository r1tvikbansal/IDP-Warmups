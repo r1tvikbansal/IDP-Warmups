{
 "cells": [
  {
   "cell_type": "code",
   "execution_count": 1,
   "id": "1b898a3b",
   "metadata": {},
   "outputs": [],
   "source": [
    "import geopandas as gpd\n",
    "import matplotlib.pyplot as plt\n",
    "\n",
    "df = gpd.read_file('ne_110m_admin_0_countries.shp')"
   ]
  },
  {
   "cell_type": "markdown",
   "id": "343144d0",
   "metadata": {},
   "source": [
    "# Part 2 : Plotting\n",
    "Now that we have loaded the shp file into the GeoDataFrame, we can plot it. \n",
    "The second plot below colors the map by population. Find a different thing to plot that makes sense. \n",
    "**What other column did you plot?**  \n",
    "> your column choice here\n",
    "\n",
    "Look at the contents of the `geometry` column. **What is the difference between MULTIPOLYGON and POLYGON?**  \n",
    "> your explanation here\n",
    "\n",
    "\n",
    "## Figure Exploration\n",
    "Look at the documentation for [subplots](https://matplotlib.org/stable/api/_as_gen/matplotlib.pyplot.subplots.html).  \n",
    "**What does the method plt.subplots() return? (provide explanation)**\n",
    "> your explanation here\n",
    "\n"
   ]
  },
  {
   "cell_type": "code",
   "execution_count": null,
   "id": "4129e27f",
   "metadata": {},
   "outputs": [],
   "source": [
    "# latitude values go from: -90 to +90 degrees\n",
    "# longitude values go from: -180 to +180 degrees\n",
    "df.plot()"
   ]
  },
  {
   "cell_type": "code",
   "execution_count": null,
   "id": "55cb8651",
   "metadata": {},
   "outputs": [],
   "source": [
    "# POP_EST is the name of the colummn containing population information\n",
    "# legend=True makes the legend appear\n",
    "# Find another column name to use.\n",
    "df.plot(column='POP_EST', legend=True)"
   ]
  },
  {
   "cell_type": "code",
   "execution_count": null,
   "id": "24ed6ace",
   "metadata": {},
   "outputs": [],
   "source": [
    "print(df['geometry'])"
   ]
  },
  {
   "cell_type": "code",
   "execution_count": null,
   "id": "c2ef4bb0",
   "metadata": {},
   "outputs": [],
   "source": [
    "import pandas as pd\n",
    "import matplotlib.pyplot as plt\n",
    "\n",
    "df2 = pd.DataFrame({\n",
    "    'a': [1, 2, 3],\n",
    "    'b': [1, 2, 3],\n",
    "    'c': [3, 2, 1]\n",
    "})\n",
    "\n",
    "# Make a figure with one axis\n",
    "fig, ax = plt.subplots(1)\n",
    "\n",
    "# Use the special param `ax` to tell pandas which axis to draw on\n",
    "df2.plot(x='a', y='b', ax=ax)\n",
    "df2.plot(x='a', y='c', ax=ax)\n"
   ]
  },
  {
   "cell_type": "markdown",
   "id": "2da8da39",
   "metadata": {},
   "source": [
    "## Part 2: Figure Exploration (continued)\n",
    "Look at the code in the cell above that creates a figure displaying one plot with two lines. It _overlays_ the two axes plots onto the same figure by passing in the same axis to the plot method. In the cell below, **write code to create a single figure** which has two plots (or axes) side-by-side (in a row)."
   ]
  },
  {
   "cell_type": "code",
   "execution_count": null,
   "id": "e7e05398",
   "metadata": {},
   "outputs": [],
   "source": [
    "# make a single figure with two plots side-by-side"
   ]
  }
 ],
 "metadata": {
  "kernelspec": {
   "display_name": "idp",
   "language": "python",
   "name": "python3"
  },
  "language_info": {
   "codemirror_mode": {
    "name": "ipython",
    "version": 3
   },
   "file_extension": ".py",
   "mimetype": "text/x-python",
   "name": "python",
   "nbconvert_exporter": "python",
   "pygments_lexer": "ipython3",
   "version": "3.8.19"
  }
 },
 "nbformat": 4,
 "nbformat_minor": 5
}
