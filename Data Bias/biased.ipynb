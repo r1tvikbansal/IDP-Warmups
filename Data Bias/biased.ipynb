{
 "cells": [
  {
   "cell_type": "markdown",
   "metadata": {},
   "source": [
    "# Set Up\n",
    "\n",
    "The code below has been provided for you. Read through the code...slowly....\n",
    "\n",
    "At the end answer the questions."
   ]
  },
  {
   "cell_type": "code",
   "execution_count": null,
   "metadata": {},
   "outputs": [],
   "source": [
    "import pandas as pd\n",
    "from sklearn.linear_model import LinearRegression\n",
    "from sklearn.model_selection import train_test_split\n",
    "from sklearn.metrics import mean_squared_error\n",
    "\n",
    "# Sample data\n",
    "data = {\n",
    "    'age': [25, 30, 45, 40, 35, 50, 27, 55, 60, 23, 31, 43, 36, 29, 49],\n",
    "    'gender': ['A', 'B', 'A', 'B', 'A', 'B', 'B', 'A', 'B', 'A', 'B', 'B', 'A', 'B', 'A'],\n",
    "    'income': [30000, 40000, 50000, 60000, 70000, 80000, 45000, 55000, 60000, 32000, 48000, 52000, 62000, 41000, 53000],\n",
    "    # Skewed premiums: gender B has higher premiums on average\n",
    "    'premium': [200, 300, 400, 450, 420, 500, 320, 410, 490, 230, 350, 460, 430, 340, 415]\n",
    "}\n",
    "df = pd.DataFrame(data)\n",
    "df.head()"
   ]
  },
  {
   "cell_type": "markdown",
   "metadata": {},
   "source": [
    "\n",
    "# Train a Simple Model\n",
    "\n",
    "Convert categorical variables one_hot_encoding\n",
    "Split the data into training and testing sets.\n",
    "Fit a linear regression model to predict \"premium\" based on age, gender, and income."
   ]
  },
  {
   "cell_type": "code",
   "execution_count": null,
   "metadata": {},
   "outputs": [],
   "source": [
    "X = df[['age', 'gender', 'income']]\n",
    "X = pd.get_dummies(X)\n",
    "y = df['premium']\n",
    "\n",
    "X_train, X_test, y_train, y_test = train_test_split(X, y, test_size=0.3, random_state=42)\n",
    "\n",
    "# X_train_excl = X_train.loc[:,['age','income']]\n",
    "\n",
    "model = LinearRegression()\n",
    "model.fit(X_train, y_train)\n"
   ]
  },
  {
   "cell_type": "markdown",
   "metadata": {},
   "source": [
    "# Analyze Results\n",
    "Make predictions and compare the mean squared error."
   ]
  },
  {
   "cell_type": "code",
   "execution_count": null,
   "metadata": {},
   "outputs": [],
   "source": [
    "predictions = model.predict(X_test)\n",
    "mse = mean_squared_error(y_test, predictions)\n",
    "print(f\"Mean Squared Error: {mse}\")\n"
   ]
  },
  {
   "cell_type": "code",
   "execution_count": null,
   "metadata": {},
   "outputs": [],
   "source": [
    "import matplotlib.pyplot as plt\n",
    "import seaborn as sns\n",
    "\n",
    "df_test = X_test.copy()\n",
    "df_test['actual_premium'] = y_test\n",
    "df_test['predicted_premium'] = model.predict(X_test)\n",
    "\n",
    "print(df_test)\n",
    "\n",
    "# Separate data by gender for plotting\n",
    "a_test_data = df_test[df_test['gender_A'] == True]\n",
    "b_test_data = df_test[df_test['gender_B'] == True]\n",
    "\n",
    "# Plot actual vs predicted premiums by gender\n",
    "plt.figure(figsize=(10, 6))\n",
    "\n",
    "# A: Actual vs Predicted\n",
    "plt.bar(a_test_data.index - 0.2, a_test_data['actual_premium'], width=0.4, label='A - Actual Premium', color='green')\n",
    "plt.bar(a_test_data.index + 0.2, a_test_data['predicted_premium'], width=0.4, label='A - Predicted Premium', color='lightgreen')\n",
    "\n",
    "# B: Actual vs Predicted\n",
    "plt.bar(b_test_data.index - 0.2, b_test_data['actual_premium'], width=0.4, label='B - Actual Premium', color='orange')\n",
    "plt.bar(b_test_data.index + 0.2, b_test_data['predicted_premium'], width=0.4, label='B - Predicted Premium', color='red')\n",
    "\n",
    "# Add labels and title\n",
    "plt.xlabel('Customer Index')\n",
    "plt.ylabel('Premium')\n",
    "plt.title('Actual vs Predicted Premiums by Gender (Testing Set)')\n",
    "plt.legend()\n",
    "plt.show()"
   ]
  },
  {
   "cell_type": "markdown",
   "metadata": {},
   "source": [
    "# Discussion\n",
    "\n",
    "1. What ethical issues might arise from including sensitive attributes like gender?\n",
    "2. Does the inclusion of gender affect premium predictions? \n",
    "3. What are some possible ways the gender data might be biased?"
   ]
  }
 ],
 "metadata": {
  "kernelspec": {
   "display_name": "idp",
   "language": "python",
   "name": "python3"
  },
  "language_info": {
   "codemirror_mode": {
    "name": "ipython",
    "version": 3
   },
   "file_extension": ".py",
   "mimetype": "text/x-python",
   "name": "python",
   "nbconvert_exporter": "python",
   "pygments_lexer": "ipython3",
   "version": "3.8.19"
  }
 },
 "nbformat": 4,
 "nbformat_minor": 2
}
